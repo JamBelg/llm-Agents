{
 "cells": [
  {
   "cell_type": "code",
   "execution_count": 2,
   "metadata": {},
   "outputs": [],
   "source": [
    "from dotenv import load_dotenv\n",
    "import os\n",
    "\n",
    "load_dotenv()\n",
    "COHERE_API_KEY = os.getenv(\"COHERE_API_KEY\")\n",
    "TAVILY_API_KEY = os.getenv(\"TAVILY_API_KEY\")"
   ]
  },
  {
   "cell_type": "code",
   "execution_count": 10,
   "metadata": {},
   "outputs": [],
   "source": [
    "# Create the Cohere chat model\n",
    "from langchain_cohere.chat_models import ChatCohere\n",
    "os.environ[\"COHERE_API_KEY\"] = COHERE_API_KEY\n",
    "chat = ChatCohere(model=\"command-r-plus\", temperature=0.3)"
   ]
  },
  {
   "cell_type": "markdown",
   "metadata": {},
   "source": [
    "Tool 1: web search"
   ]
  },
  {
   "cell_type": "code",
   "execution_count": 25,
   "metadata": {},
   "outputs": [],
   "source": [
    "from langchain_community.tools import TavilySearchResults\n",
    "\n",
    "os.environ['TAVILY_API_KEY'] = TAVILY_API_KEY\n",
    "\n",
    "internet_search = TavilySearchResults()\n",
    "internet_search.name = \"internet_search\"\n",
    "internet_search.description = \"Returns a list of relevant document snippets for a textual query retrieved from the internet.\"\n",
    "\n",
    "\n",
    "# from langchain_core.pydantic_v1 import BaseModel, Field\n",
    "# class TavilySearchInput(BaseModel):\n",
    "#     query: str = Field(description=\"Query to search the internet with\")\n",
    "# internet_search.args_schema = TavilySearchInput"
   ]
  },
  {
   "cell_type": "code",
   "execution_count": 23,
   "metadata": {},
   "outputs": [],
   "source": [
    "from langchain_community.tools import TavilySearchResults\n",
    "\n",
    "tool = TavilySearchResults(\n",
    "    max_results=5,\n",
    "    include_answer=True,\n",
    "    include_raw_content=True,\n",
    "    include_images=True,\n",
    "    # search_depth=\"advanced\",\n",
    "    # include_domains = []\n",
    "    # exclude_domains = []\n",
    ")"
   ]
  },
  {
   "cell_type": "code",
   "execution_count": 24,
   "metadata": {},
   "outputs": [
    {
     "data": {
      "text/plain": [
       "[{'url': 'https://www.sportskeeda.com/tennis/who-last-french-players-win-french-open',\n",
       "  'content': 'Francoise Durr, the legendary French player, was the last Frenchwoman to win the French Open in 1967. The duo of Mary Peirce and Martina Hingis also won the doubles title that same year. Expand Tweet'},\n",
       " {'url': \"https://en.wikipedia.org/wiki/List_of_French_Open_Men's_Singles_champions\",\n",
       "  'content': \"Ivan Lendl won his first title in 1984, before losing the following year to Wilander in the final and won two consecutive titles in 1986 and 1987.[19] Michael Chang became the youngest man to win the French Open when he beat Stefan Edberg in 1989.[21]\\nAmerican Jim Courier won consecutive titles in 1991 and 1992 before Spaniard Sergi Bruguera repeated the feat in 1993 and 1994.[22][23] Gustavo Kuerten won three titles in 1997, 2000 and 2001.[19] 2005 marked Rafael Nadal's first French Open; he won four consecutive titles from 2005 to 2008.[24] These results are not recognised by the FFT or other major international organisations and are considered unofficial.[4] Marcel Bernard won the first event after the end of the war in 1946; he was the only Frenchman to win the event before the advent of the Open era in 1968.[13]\\nNo one player dominated the event during this period. The tournament, won by Australian Ken Rosewall, was the first Grand Slam tournament to be played in the Open era.[18]\\nSwede Björn Borg won the majority of the tournaments in the early years of the Open era. French players were dominant in the early stages of the tournament, in particular Max Decugis, who won eight titles before the outbreak of the First World War.[13]\\nBetween 1924 and 1932 the title was won by a member of The Four Musketeers. Established in 1891 and played since 1928 on outdoor red clay courts at the Stade Roland Garros in Paris, France,[1] the French Open is (since 1925) one of the four Grand Slam tournaments played each year, the other three being the Australian Open, Wimbledon, and the US Open.\"},\n",
       " {'url': 'https://byjusexamprep.com/current-affairs/french-open-winners-list',\n",
       "  'content': \"French Open Winner, Novak Djokovic claimed his 23rd Grand Slam title at the 2023 French Open last year. We have shared the list of all French Open Winners, including men's and women's singles champions, men's and women's doubles champions and mixed champions, in the table below. ... Rafael Nadal has won the French Open 14 times in the\"},\n",
       " {'url': 'https://www.espn.com/tennis/story/_/id/40269330/french-open-winners-mens-womens-singles-champions',\n",
       "  'content': \"Carlos Alcaraz won his third career Grand Slam title, while Iga Swiatek won her third consecutive French Open title. Check out the all-time men's and women's champions list now.\"},\n",
       " {'url': 'https://www.topendsports.com/events/tennis-grand-slam/french-open/winners-men.htm',\n",
       "  'content': \"Here are all the winners of the French Tennis Open men's title since the first tournament in 1925. The recent tournaments have been dominated by Spanish player Rafael Nadal. ... He now has 14 French Open men's singles titles (the last in 2022). See also the Women's Singles Results. Year Winner 2nd Score; 2024: Carlos Alcaraz (Spain) Alexander\"}]"
      ]
     },
     "execution_count": 24,
     "metadata": {},
     "output_type": "execute_result"
    }
   ],
   "source": [
    "tool.invoke({'query': 'who won the last french open'})"
   ]
  },
  {
   "cell_type": "markdown",
   "metadata": {},
   "source": [
    "Tool 2: plot"
   ]
  },
  {
   "cell_type": "code",
   "execution_count": 26,
   "metadata": {},
   "outputs": [],
   "source": [
    "from langchain.agents import Tool\n",
    "from langchain_experimental.utilities import PythonREPL\n",
    "\n",
    "python_repl = PythonREPL()\n",
    "repl_tool = Tool(\n",
    "    name=\"python_repl\",\n",
    "    description=\"Executes python code and returns the result. The code runs in a static sandbox without interactive mode, so print output or save output to a file.\",\n",
    "    func=python_repl.run,\n",
    ")\n",
    "repl_tool.name = \"python_interpreter\"\n",
    "\n",
    "# from langchain_core.pydantic_v1 import BaseModel, Field\n",
    "class ToolInput(BaseModel):\n",
    "    code: str = Field(description=\"Python code to execute.\")\n",
    "repl_tool.args_schema = ToolInput"
   ]
  },
  {
   "cell_type": "markdown",
   "metadata": {},
   "source": [
    "Agent"
   ]
  },
  {
   "cell_type": "code",
   "execution_count": 27,
   "metadata": {},
   "outputs": [],
   "source": [
    "from langchain.agents import AgentExecutor\n",
    "from langchain_cohere.react_multi_hop.agent import create_cohere_react_agent\n",
    "from langchain_core.prompts import ChatPromptTemplate\n",
    "\n",
    "# Create the prompt\n",
    "prompt = ChatPromptTemplate.from_template(\"{input}\")\n",
    "\n",
    "\n",
    "# Create the ReAct agent\n",
    "agent = create_cohere_react_agent(\n",
    "    llm=chat,\n",
    "    tools=[internet_search, repl_tool],\n",
    "    prompt=prompt,\n",
    ")\n",
    "\n",
    "agent_executor = AgentExecutor(agent=agent, tools=[internet_search, repl_tool], verbose=True)"
   ]
  },
  {
   "cell_type": "code",
   "execution_count": 28,
   "metadata": {},
   "outputs": [
    {
     "name": "stdout",
     "output_type": "stream",
     "text": [
      "\n",
      "\n",
      "\u001b[1m> Entering new AgentExecutor chain...\u001b[0m\n",
      "Error: type object 'ToolInput' has no attribute 'model_json_schema'\n"
     ]
    }
   ],
   "source": [
    "try:\n",
    "    result = agent_executor.invoke({\n",
    "        \"input\": \"Create a plot of the monthly average of gold price in swiss franc by gramm for the last 10 years\",\n",
    "    })\n",
    "except AttributeError as e:\n",
    "    print(f\"Error: {e}\")"
   ]
  }
 ],
 "metadata": {
  "kernelspec": {
   "display_name": "llm_agen_env",
   "language": "python",
   "name": "python3"
  },
  "language_info": {
   "codemirror_mode": {
    "name": "ipython",
    "version": 3
   },
   "file_extension": ".py",
   "mimetype": "text/x-python",
   "name": "python",
   "nbconvert_exporter": "python",
   "pygments_lexer": "ipython3",
   "version": "3.10.10"
  }
 },
 "nbformat": 4,
 "nbformat_minor": 2
}
