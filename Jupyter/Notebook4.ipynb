{
 "cells": [
  {
   "cell_type": "markdown",
   "metadata": {},
   "source": [
    "### Load libraries"
   ]
  },
  {
   "cell_type": "code",
   "execution_count": 87,
   "metadata": {},
   "outputs": [],
   "source": [
    "from dotenv import load_dotenv\n",
    "import os\n",
    "\n",
    "from langchain.chat_models import ChatOpenAI\n",
    "from langchain.tools import Tool\n",
    "from langchain.agents import AgentExecutor, create_openai_tools_agent\n",
    "from langchain_core.prompts import ChatPromptTemplate\n",
    "\n",
    "import boto3\n",
    "import pandas as pd"
   ]
  },
  {
   "cell_type": "markdown",
   "metadata": {},
   "source": [
    "### Load environment variables\n",
    "I created .env file where I stored different api keys (AWS and openai)."
   ]
  },
  {
   "cell_type": "code",
   "execution_count": 88,
   "metadata": {},
   "outputs": [],
   "source": [
    "load_dotenv()\n",
    "\n",
    "AWS_ACCESS_KEY_ID = os.getenv(\"AWS_ACCESS_KEY_ID\")\n",
    "AWS_SECRET_ACCESS_KEY = os.getenv(\"AWS_SECRET_ACCESS_KEY\")\n",
    "AWS_REGION = os.getenv(\"AWS_REGION\")\n",
    "\n",
    "# Set the OpenAI API key\n",
    "OPENAI_API_KEY = os.getenv(\"OPENAI_API_KEY\")\n",
    "os.environ[\"OPENAI_API_KEY\"] = OPENAI_API_KEY"
   ]
  },
  {
   "cell_type": "markdown",
   "metadata": {},
   "source": [
    "### LLM\n",
    "I will use chatgpt 3.5 turbo as llm for this tutorial, You can use another llm models.\\\n",
    "[List of llm models that you can use with langchain](https://python.langchain.com/docs/integrations/chat/#all-chat-models)"
   ]
  },
  {
   "cell_type": "code",
   "execution_count": 89,
   "metadata": {},
   "outputs": [],
   "source": [
    "# Create the OpenAI chat model\n",
    "chat = ChatOpenAI(\n",
    "    model=\"gpt-4o-mini\",  # You can use also \"gpt-3.5-turbo\" / gpt-4 if you want\n",
    "    temperature=0.2\n",
    ")"
   ]
  },
  {
   "cell_type": "markdown",
   "metadata": {},
   "source": [
    "### Data\n",
    "I will use an S3 cluster data for this tutorial, I will upload data and then push it to postgres database."
   ]
  },
  {
   "cell_type": "markdown",
   "metadata": {},
   "source": [
    "##### Read S3"
   ]
  },
  {
   "cell_type": "code",
   "execution_count": 90,
   "metadata": {},
   "outputs": [],
   "source": [
    "os.environ[\"AWS_ACCESS_KEY_ID\"] = AWS_ACCESS_KEY_ID\n",
    "os.environ[\"AWS_SECRET_ACCESS_KEY\"]=AWS_SECRET_ACCESS_KEY\n",
    "# os.environ[\"AWS_REGION\"]= AWS_REGION\n",
    "\n",
    "# Initialize S3 client\n",
    "s3_client = boto3.client(\"s3\")\n",
    "\n",
    "# Function to list files in an S3 bucket\n",
    "def list_s3_objects(bucket_name):\n",
    "    response = s3_client.list_objects_v2(Bucket=bucket_name)\n",
    "    if \"Contents\" in response:\n",
    "        return [obj[\"Key\"] for obj in response[\"Contents\"]]\n",
    "    return \"No files found in the bucket.\"\n",
    "\n",
    "# Function to read a file from S3\n",
    "def read_s3_object(bucket_name, file_key):\n",
    "    response = s3_client.get_object(Bucket=bucket_name, Key=file_key)\n",
    "    # content = response[\"Body\"].read().decode(\"utf-8\")\n",
    "    content = pd.read_csv(response[\"Body\"])\n",
    "    return content\n"
   ]
  },
  {
   "cell_type": "code",
   "execution_count": 91,
   "metadata": {},
   "outputs": [
    {
     "data": {
      "text/plain": [
       "['data_etl.csv']"
      ]
     },
     "execution_count": 91,
     "metadata": {},
     "output_type": "execute_result"
    }
   ],
   "source": [
    "list_s3_objects(\"earthquakedb\")"
   ]
  },
  {
   "cell_type": "code",
   "execution_count": 92,
   "metadata": {},
   "outputs": [
    {
     "data": {
      "text/html": [
       "<div>\n",
       "<style scoped>\n",
       "    .dataframe tbody tr th:only-of-type {\n",
       "        vertical-align: middle;\n",
       "    }\n",
       "\n",
       "    .dataframe tbody tr th {\n",
       "        vertical-align: top;\n",
       "    }\n",
       "\n",
       "    .dataframe thead th {\n",
       "        text-align: right;\n",
       "    }\n",
       "</style>\n",
       "<table border=\"1\" class=\"dataframe\">\n",
       "  <thead>\n",
       "    <tr style=\"text-align: right;\">\n",
       "      <th></th>\n",
       "      <th>Unnamed: 0</th>\n",
       "      <th>Year</th>\n",
       "      <th>Local_Time</th>\n",
       "      <th>UTC_Time</th>\n",
       "      <th>Magnitude</th>\n",
       "      <th>Location</th>\n",
       "      <th>Depth</th>\n",
       "      <th>Latitude</th>\n",
       "      <th>Longitude</th>\n",
       "      <th>Event_type</th>\n",
       "      <th>Assessment</th>\n",
       "      <th>Agency</th>\n",
       "    </tr>\n",
       "  </thead>\n",
       "  <tbody>\n",
       "    <tr>\n",
       "      <th>0</th>\n",
       "      <td>0</td>\n",
       "      <td>2025</td>\n",
       "      <td>Jan 26 14:48:47</td>\n",
       "      <td>Jan 26 13:48:47</td>\n",
       "      <td>1.3</td>\n",
       "      <td>Martigny VS</td>\n",
       "      <td>4.9</td>\n",
       "      <td>46.16</td>\n",
       "      <td>7.06</td>\n",
       "      <td>NaN</td>\n",
       "      <td>automatic</td>\n",
       "      <td>SED</td>\n",
       "    </tr>\n",
       "    <tr>\n",
       "      <th>1</th>\n",
       "      <td>1</td>\n",
       "      <td>2025</td>\n",
       "      <td>Jan 26 09:36:00</td>\n",
       "      <td>Jan 26 08:36:00</td>\n",
       "      <td>1.2</td>\n",
       "      <td>Liestal BL</td>\n",
       "      <td>10.6</td>\n",
       "      <td>47.48</td>\n",
       "      <td>7.74</td>\n",
       "      <td>NaN</td>\n",
       "      <td>automatic</td>\n",
       "      <td>SED</td>\n",
       "    </tr>\n",
       "    <tr>\n",
       "      <th>2</th>\n",
       "      <td>2</td>\n",
       "      <td>2025</td>\n",
       "      <td>Jan 26 05:53:30</td>\n",
       "      <td>Jan 26 04:53:30</td>\n",
       "      <td>1.3</td>\n",
       "      <td>Bosco/Gurin TI</td>\n",
       "      <td>5.0</td>\n",
       "      <td>46.30</td>\n",
       "      <td>8.34</td>\n",
       "      <td>NaN</td>\n",
       "      <td>automatic</td>\n",
       "      <td>SED</td>\n",
       "    </tr>\n",
       "    <tr>\n",
       "      <th>3</th>\n",
       "      <td>3</td>\n",
       "      <td>2025</td>\n",
       "      <td>Jan 26 05:40:34</td>\n",
       "      <td>Jan 26 04:40:34</td>\n",
       "      <td>1.7</td>\n",
       "      <td>CHATEL-ST-DENIS FR</td>\n",
       "      <td>2.2</td>\n",
       "      <td>46.49</td>\n",
       "      <td>6.89</td>\n",
       "      <td>NaN</td>\n",
       "      <td>automatic</td>\n",
       "      <td>SED</td>\n",
       "    </tr>\n",
       "    <tr>\n",
       "      <th>4</th>\n",
       "      <td>4</td>\n",
       "      <td>2025</td>\n",
       "      <td>Jan 25 23:06:29</td>\n",
       "      <td>Jan 25 22:06:29</td>\n",
       "      <td>1.6</td>\n",
       "      <td>Unterschaechen UR</td>\n",
       "      <td>8.5</td>\n",
       "      <td>46.90</td>\n",
       "      <td>8.80</td>\n",
       "      <td>NaN</td>\n",
       "      <td>automatic</td>\n",
       "      <td>SED</td>\n",
       "    </tr>\n",
       "    <tr>\n",
       "      <th>5</th>\n",
       "      <td>5</td>\n",
       "      <td>2025</td>\n",
       "      <td>Jan 25 20:50:13</td>\n",
       "      <td>Jan 25 19:50:13</td>\n",
       "      <td>1.2</td>\n",
       "      <td>Aosta I</td>\n",
       "      <td>5.0</td>\n",
       "      <td>45.80</td>\n",
       "      <td>7.43</td>\n",
       "      <td>NaN</td>\n",
       "      <td>automatic</td>\n",
       "      <td>SED</td>\n",
       "    </tr>\n",
       "    <tr>\n",
       "      <th>6</th>\n",
       "      <td>6</td>\n",
       "      <td>2025</td>\n",
       "      <td>Jan 25 20:47:20</td>\n",
       "      <td>Jan 25 19:47:20</td>\n",
       "      <td>1.1</td>\n",
       "      <td>Laufenburg</td>\n",
       "      <td>7.9</td>\n",
       "      <td>47.70</td>\n",
       "      <td>7.96</td>\n",
       "      <td>NaN</td>\n",
       "      <td>automatic</td>\n",
       "      <td>SED</td>\n",
       "    </tr>\n",
       "    <tr>\n",
       "      <th>7</th>\n",
       "      <td>7</td>\n",
       "      <td>2025</td>\n",
       "      <td>Jan 25 15:23:28</td>\n",
       "      <td>Jan 25 14:23:28</td>\n",
       "      <td>0.3</td>\n",
       "      <td>Eglisau ZH</td>\n",
       "      <td>1.7</td>\n",
       "      <td>47.57</td>\n",
       "      <td>8.54</td>\n",
       "      <td>earthquake</td>\n",
       "      <td>manual</td>\n",
       "      <td>SED</td>\n",
       "    </tr>\n",
       "    <tr>\n",
       "      <th>8</th>\n",
       "      <td>8</td>\n",
       "      <td>2025</td>\n",
       "      <td>Jan 25 15:23:22</td>\n",
       "      <td>Jan 25 14:23:22</td>\n",
       "      <td>0.2</td>\n",
       "      <td>Eglisau ZH</td>\n",
       "      <td>1.7</td>\n",
       "      <td>47.57</td>\n",
       "      <td>8.54</td>\n",
       "      <td>earthquake</td>\n",
       "      <td>manual</td>\n",
       "      <td>SED</td>\n",
       "    </tr>\n",
       "    <tr>\n",
       "      <th>9</th>\n",
       "      <td>9</td>\n",
       "      <td>2025</td>\n",
       "      <td>Jan 24 16:09:32</td>\n",
       "      <td>Jan 24 15:09:32</td>\n",
       "      <td>1.3</td>\n",
       "      <td>Bourg-Saint-Pierre VS</td>\n",
       "      <td>6.9</td>\n",
       "      <td>45.91</td>\n",
       "      <td>7.04</td>\n",
       "      <td>earthquake</td>\n",
       "      <td>manual</td>\n",
       "      <td>SED</td>\n",
       "    </tr>\n",
       "  </tbody>\n",
       "</table>\n",
       "</div>"
      ],
      "text/plain": [
       "   Unnamed: 0  Year       Local_Time         UTC_Time  Magnitude  \\\n",
       "0           0  2025  Jan 26 14:48:47  Jan 26 13:48:47        1.3   \n",
       "1           1  2025  Jan 26 09:36:00  Jan 26 08:36:00        1.2   \n",
       "2           2  2025  Jan 26 05:53:30  Jan 26 04:53:30        1.3   \n",
       "3           3  2025  Jan 26 05:40:34  Jan 26 04:40:34        1.7   \n",
       "4           4  2025  Jan 25 23:06:29  Jan 25 22:06:29        1.6   \n",
       "5           5  2025  Jan 25 20:50:13  Jan 25 19:50:13        1.2   \n",
       "6           6  2025  Jan 25 20:47:20  Jan 25 19:47:20        1.1   \n",
       "7           7  2025  Jan 25 15:23:28  Jan 25 14:23:28        0.3   \n",
       "8           8  2025  Jan 25 15:23:22  Jan 25 14:23:22        0.2   \n",
       "9           9  2025  Jan 24 16:09:32  Jan 24 15:09:32        1.3   \n",
       "\n",
       "                Location  Depth  Latitude  Longitude  Event_type Assessment  \\\n",
       "0            Martigny VS    4.9     46.16       7.06         NaN  automatic   \n",
       "1             Liestal BL   10.6     47.48       7.74         NaN  automatic   \n",
       "2         Bosco/Gurin TI    5.0     46.30       8.34         NaN  automatic   \n",
       "3     CHATEL-ST-DENIS FR    2.2     46.49       6.89         NaN  automatic   \n",
       "4      Unterschaechen UR    8.5     46.90       8.80         NaN  automatic   \n",
       "5                Aosta I    5.0     45.80       7.43         NaN  automatic   \n",
       "6             Laufenburg    7.9     47.70       7.96         NaN  automatic   \n",
       "7             Eglisau ZH    1.7     47.57       8.54  earthquake     manual   \n",
       "8             Eglisau ZH    1.7     47.57       8.54  earthquake     manual   \n",
       "9  Bourg-Saint-Pierre VS    6.9     45.91       7.04  earthquake     manual   \n",
       "\n",
       "  Agency  \n",
       "0    SED  \n",
       "1    SED  \n",
       "2    SED  \n",
       "3    SED  \n",
       "4    SED  \n",
       "5    SED  \n",
       "6    SED  \n",
       "7    SED  \n",
       "8    SED  \n",
       "9    SED  "
      ]
     },
     "execution_count": 92,
     "metadata": {},
     "output_type": "execute_result"
    }
   ],
   "source": [
    "df = read_s3_object(\"earthquakedb\", \"data_etl.csv\")\n",
    "df.head(10)"
   ]
  },
  {
   "cell_type": "code",
   "execution_count": 93,
   "metadata": {},
   "outputs": [
    {
     "name": "stdout",
     "output_type": "stream",
     "text": [
      "<class 'pandas.core.frame.DataFrame'>\n",
      "RangeIndex: 8747 entries, 0 to 8746\n",
      "Data columns (total 12 columns):\n",
      " #   Column      Non-Null Count  Dtype  \n",
      "---  ------      --------------  -----  \n",
      " 0   Unnamed: 0  8747 non-null   int64  \n",
      " 1   Year        8747 non-null   int64  \n",
      " 2   Local_Time  8747 non-null   object \n",
      " 3   UTC_Time    8747 non-null   object \n",
      " 4   Magnitude   8747 non-null   float64\n",
      " 5   Location    8747 non-null   object \n",
      " 6   Depth       8747 non-null   float64\n",
      " 7   Latitude    8747 non-null   float64\n",
      " 8   Longitude   8747 non-null   float64\n",
      " 9   Event_type  8740 non-null   object \n",
      " 10  Assessment  8747 non-null   object \n",
      " 11  Agency      8747 non-null   object \n",
      "dtypes: float64(4), int64(2), object(6)\n",
      "memory usage: 820.2+ KB\n"
     ]
    }
   ],
   "source": [
    "df.info()"
   ]
  },
  {
   "cell_type": "markdown",
   "metadata": {},
   "source": [
    "#### Assign Canton name"
   ]
  },
  {
   "cell_type": "code",
   "execution_count": 94,
   "metadata": {},
   "outputs": [
    {
     "data": {
      "text/html": [
       "<div>\n",
       "<style scoped>\n",
       "    .dataframe tbody tr th:only-of-type {\n",
       "        vertical-align: middle;\n",
       "    }\n",
       "\n",
       "    .dataframe tbody tr th {\n",
       "        vertical-align: top;\n",
       "    }\n",
       "\n",
       "    .dataframe thead th {\n",
       "        text-align: right;\n",
       "    }\n",
       "</style>\n",
       "<table border=\"1\" class=\"dataframe\">\n",
       "  <thead>\n",
       "    <tr style=\"text-align: right;\">\n",
       "      <th></th>\n",
       "      <th>Unnamed: 0</th>\n",
       "      <th>Year</th>\n",
       "      <th>Local_Time</th>\n",
       "      <th>Magnitude</th>\n",
       "      <th>Location</th>\n",
       "      <th>Latitude</th>\n",
       "      <th>Longitude</th>\n",
       "      <th>NAME</th>\n",
       "    </tr>\n",
       "  </thead>\n",
       "  <tbody>\n",
       "    <tr>\n",
       "      <th>0</th>\n",
       "      <td>0</td>\n",
       "      <td>2025</td>\n",
       "      <td>Jan 26 14:48:47</td>\n",
       "      <td>1.3</td>\n",
       "      <td>Martigny VS</td>\n",
       "      <td>46.16</td>\n",
       "      <td>7.06</td>\n",
       "      <td>Valais</td>\n",
       "    </tr>\n",
       "    <tr>\n",
       "      <th>1</th>\n",
       "      <td>1</td>\n",
       "      <td>2025</td>\n",
       "      <td>Jan 26 09:36:00</td>\n",
       "      <td>1.2</td>\n",
       "      <td>Liestal BL</td>\n",
       "      <td>47.48</td>\n",
       "      <td>7.74</td>\n",
       "      <td>Basel-Landschaft</td>\n",
       "    </tr>\n",
       "    <tr>\n",
       "      <th>3</th>\n",
       "      <td>3</td>\n",
       "      <td>2025</td>\n",
       "      <td>Jan 26 05:40:34</td>\n",
       "      <td>1.7</td>\n",
       "      <td>CHATEL-ST-DENIS FR</td>\n",
       "      <td>46.49</td>\n",
       "      <td>6.89</td>\n",
       "      <td>Vaud</td>\n",
       "    </tr>\n",
       "    <tr>\n",
       "      <th>4</th>\n",
       "      <td>4</td>\n",
       "      <td>2025</td>\n",
       "      <td>Jan 25 23:06:29</td>\n",
       "      <td>1.6</td>\n",
       "      <td>Unterschaechen UR</td>\n",
       "      <td>46.90</td>\n",
       "      <td>8.80</td>\n",
       "      <td>Uri</td>\n",
       "    </tr>\n",
       "    <tr>\n",
       "      <th>7</th>\n",
       "      <td>7</td>\n",
       "      <td>2025</td>\n",
       "      <td>Jan 25 15:23:28</td>\n",
       "      <td>0.3</td>\n",
       "      <td>Eglisau ZH</td>\n",
       "      <td>47.57</td>\n",
       "      <td>8.54</td>\n",
       "      <td>Zürich</td>\n",
       "    </tr>\n",
       "    <tr>\n",
       "      <th>8</th>\n",
       "      <td>8</td>\n",
       "      <td>2025</td>\n",
       "      <td>Jan 25 15:23:22</td>\n",
       "      <td>0.2</td>\n",
       "      <td>Eglisau ZH</td>\n",
       "      <td>47.57</td>\n",
       "      <td>8.54</td>\n",
       "      <td>Zürich</td>\n",
       "    </tr>\n",
       "    <tr>\n",
       "      <th>10</th>\n",
       "      <td>10</td>\n",
       "      <td>2025</td>\n",
       "      <td>Jan 24 10:22:39</td>\n",
       "      <td>0.8</td>\n",
       "      <td>Porrentruy JU</td>\n",
       "      <td>47.37</td>\n",
       "      <td>7.06</td>\n",
       "      <td>Jura</td>\n",
       "    </tr>\n",
       "    <tr>\n",
       "      <th>16</th>\n",
       "      <td>16</td>\n",
       "      <td>2025</td>\n",
       "      <td>Jan 21 07:21:40</td>\n",
       "      <td>0.3</td>\n",
       "      <td>Faido TI</td>\n",
       "      <td>46.55</td>\n",
       "      <td>8.79</td>\n",
       "      <td>Ticino</td>\n",
       "    </tr>\n",
       "    <tr>\n",
       "      <th>19</th>\n",
       "      <td>19</td>\n",
       "      <td>2025</td>\n",
       "      <td>Jan 21 04:08:59</td>\n",
       "      <td>0.2</td>\n",
       "      <td>Porrentruy JU</td>\n",
       "      <td>47.37</td>\n",
       "      <td>6.92</td>\n",
       "      <td>Jura</td>\n",
       "    </tr>\n",
       "    <tr>\n",
       "      <th>20</th>\n",
       "      <td>20</td>\n",
       "      <td>2025</td>\n",
       "      <td>Jan 21 01:34:01</td>\n",
       "      <td>0.7</td>\n",
       "      <td>Oberwald VS</td>\n",
       "      <td>46.60</td>\n",
       "      <td>8.36</td>\n",
       "      <td>Bern</td>\n",
       "    </tr>\n",
       "  </tbody>\n",
       "</table>\n",
       "</div>"
      ],
      "text/plain": [
       "    Unnamed: 0  Year       Local_Time  Magnitude            Location  \\\n",
       "0            0  2025  Jan 26 14:48:47        1.3         Martigny VS   \n",
       "1            1  2025  Jan 26 09:36:00        1.2          Liestal BL   \n",
       "3            3  2025  Jan 26 05:40:34        1.7  CHATEL-ST-DENIS FR   \n",
       "4            4  2025  Jan 25 23:06:29        1.6   Unterschaechen UR   \n",
       "7            7  2025  Jan 25 15:23:28        0.3          Eglisau ZH   \n",
       "8            8  2025  Jan 25 15:23:22        0.2          Eglisau ZH   \n",
       "10          10  2025  Jan 24 10:22:39        0.8       Porrentruy JU   \n",
       "16          16  2025  Jan 21 07:21:40        0.3            Faido TI   \n",
       "19          19  2025  Jan 21 04:08:59        0.2       Porrentruy JU   \n",
       "20          20  2025  Jan 21 01:34:01        0.7         Oberwald VS   \n",
       "\n",
       "    Latitude  Longitude              NAME  \n",
       "0      46.16       7.06            Valais  \n",
       "1      47.48       7.74  Basel-Landschaft  \n",
       "3      46.49       6.89              Vaud  \n",
       "4      46.90       8.80               Uri  \n",
       "7      47.57       8.54            Zürich  \n",
       "8      47.57       8.54            Zürich  \n",
       "10     47.37       7.06              Jura  \n",
       "16     46.55       8.79            Ticino  \n",
       "19     47.37       6.92              Jura  \n",
       "20     46.60       8.36              Bern  "
      ]
     },
     "execution_count": 94,
     "metadata": {},
     "output_type": "execute_result"
    }
   ],
   "source": [
    "import geopandas as gpd\n",
    "from shapely.geometry import Point\n",
    "from langchain.tools import Tool, StructuredTool\n",
    "from langchain.agents import initialize_agent, AgentType\n",
    "from pydantic import BaseModel\n",
    "\n",
    "# Load the Swiss cantons Shapefile\n",
    "# Ensure you provide the correct path to your Shapefile\n",
    "shapefile_path = \"shp/swissBOUNDARIES3D_1_5_TLM_KANTONSGEBIET.shp\"\n",
    "\n",
    "regions_gdf = gpd.read_file(shapefile_path)\n",
    "if regions_gdf.crs is None:\n",
    "        regions_gdf.set_crs(\"EPSG:4326\", inplace=True)  # Assuming WGS84\n",
    "\n",
    "# Convert points list to a GeoDataFrame\n",
    "geometry = [Point(lon, lat) for lon, lat in zip(df[\"Longitude\"], df[\"Latitude\"])]\n",
    "points_gdf = gpd.GeoDataFrame(\n",
    "        df,geometry=geometry,  # Create Point geometry\n",
    "        crs=\"EPSG:4326\"  # Set coordinate reference system\n",
    ")\n",
    "if regions_gdf.crs != points_gdf.crs:\n",
    "        regions_gdf = regions_gdf.to_crs(points_gdf.crs)\n",
    "joined = gpd.sjoin(points_gdf, regions_gdf, how=\"left\", predicate=\"within\")\n",
    "joined = joined[joined[\"OBJEKTART\"]==\"Kanton\"]\n",
    "data = joined[[\"Unnamed: 0\", \"Year\", \"Local_Time\", \"Magnitude\", \"Location\", \"Latitude\", \"Longitude\", \"NAME\"]]\n",
    "data.head(10)"
   ]
  },
  {
   "cell_type": "markdown",
   "metadata": {},
   "source": [
    "##### Load S3 data into postgres table"
   ]
  },
  {
   "cell_type": "markdown",
   "metadata": {},
   "source": [
    "#### Create database"
   ]
  },
  {
   "cell_type": "code",
   "execution_count": 95,
   "metadata": {},
   "outputs": [],
   "source": [
    "import pandas as pd\n",
    "from sqlalchemy import create_engine\n",
    "import psycopg2\n",
    "\n",
    "# PostgreSQL credentials\n",
    "db_host = \"localhost\"\n",
    "db_user = \"postgres\"\n",
    "db_pass = \"postgres\"\n",
    "db_port = \"5432\"  # Default PostgreSQL port\n",
    "db_name = \"llm_sql\""
   ]
  },
  {
   "cell_type": "code",
   "execution_count": 96,
   "metadata": {},
   "outputs": [
    {
     "name": "stdout",
     "output_type": "stream",
     "text": [
      "Database 'llm_sql' already exists.\n"
     ]
    }
   ],
   "source": [
    "# Create database\n",
    "try:\n",
    "    conn = psycopg2.connect(\n",
    "        dbname=\"postgres\", user=db_user, password=db_pass, host=db_host, port=db_port\n",
    "    )\n",
    "    conn.autocommit = True\n",
    "    cursor = conn.cursor()\n",
    "    cursor.execute(f\"CREATE DATABASE {db_name};\")\n",
    "    cursor.close()\n",
    "    conn.close()\n",
    "    print(f\"Database '{db_name}' created successfully.\")\n",
    "except psycopg2.errors.DuplicateDatabase:\n",
    "    print(f\"Database '{db_name}' already exists.\")\n",
    "except Exception as e:\n",
    "    print(f\"Error creating database: {e}\")\n"
   ]
  },
  {
   "cell_type": "markdown",
   "metadata": {},
   "source": [
    "##### Create table and push data"
   ]
  },
  {
   "cell_type": "code",
   "execution_count": 97,
   "metadata": {},
   "outputs": [],
   "source": [
    "from sqlalchemy import create_engine, Column, Integer, String, Float, MetaData, Table, DateTime\n",
    "from sqlalchemy.exc import SQLAlchemyError\n",
    "\n",
    "# Create a PostgreSQL engine\n",
    "engine = create_engine(f'postgresql://{db_user}:{db_pass}@{db_host}:{db_port}/{db_name}')"
   ]
  },
  {
   "cell_type": "code",
   "execution_count": 99,
   "metadata": {},
   "outputs": [
    {
     "name": "stdout",
     "output_type": "stream",
     "text": [
      "Table 'earthquakes' does not exist.\n"
     ]
    }
   ],
   "source": [
    "from sqlalchemy.exc import NoSuchTableError\n",
    "\n",
    "metadata_obj = MetaData()\n",
    "table_name = \"earthquakes\"\n",
    "\n",
    "try:\n",
    "    table = Table(table_name, metadata_obj, autoload_with=engine)\n",
    "    table.drop(engine)\n",
    "    print(f\"Table '{table_name}' deleted successfully.\")\n",
    "except NoSuchTableError:\n",
    "    print(f\"Table '{table_name}' does not exist.\")"
   ]
  },
  {
   "cell_type": "code",
   "execution_count": 100,
   "metadata": {},
   "outputs": [
    {
     "name": "stdout",
     "output_type": "stream",
     "text": [
      "Table created (if not exists).\n",
      "Data successfully pushed to PostgreSQL!\n"
     ]
    }
   ],
   "source": [
    "\n",
    "# Sample DataFrame\n",
    "# data = read_s3_object(\"earthquakedb\", \"data_etl.csv\")\n",
    "data = data.rename(columns={\"Unnamed: 0\":   \"Index\",\n",
    "                            \"Location\":     \"location\",\n",
    "                            \"Magnitude\":    \"magnitude\",\n",
    "                            \"Latitude\":     \"latitude\",\n",
    "                            \"Longitude\":    \"longitude\",\n",
    "                            \"NAME\":         \"canton\"})\n",
    "data = data[[\"Index\", \"Year\", \"Local_Time\", \"magnitude\", \"location\", \"latitude\", \"longitude\", \"canton\"]]\n",
    "data = data[(data[\"magnitude\"]>=2) & (data[\"Year\"]>=2020)]\n",
    "\n",
    "data[\"local_Time\"] = pd.to_datetime(data[\"Year\"].astype(str) + \" \" + data[\"Local_Time\"],\n",
    "                                    format=\"%Y %b %d %H:%M:%S\")\n",
    "data.drop(columns=[\"Year\", \"Local_Time\"], inplace=True)\n",
    "\n",
    "# Define your table schema\n",
    "earthquake_table = Table(\n",
    "    \"earthquakes\", metadata_obj,\n",
    "    Column(\"Index\", Integer, primary_key=True, autoincrement=True),\n",
    "    Column(\"local_time\", DateTime),\n",
    "    Column(\"magnitude\", Float),\n",
    "    Column(\"location\", String(255)),\n",
    "    Column(\"latitude\", Float),\n",
    "    Column(\"longitude\", Float),\n",
    "    Column(\"canton\", String(255))\n",
    ")\n",
    "\n",
    "# Create the table if it does not exist\n",
    "try:\n",
    "    metadata_obj.create_all(engine)\n",
    "    print(\"Table created (if not exists).\")\n",
    "except SQLAlchemyError as e:\n",
    "    print(f\"Error creating table: {e}\")\n",
    "\n",
    "# Push the DataFrame into PostgreSQL (replace table if it exists)\n",
    "data.to_sql('earthquakes', engine, if_exists='replace', index=False)\n",
    "\n",
    "print(\"Data successfully pushed to PostgreSQL!\")"
   ]
  },
  {
   "cell_type": "markdown",
   "metadata": {},
   "source": [
    "##### Test\n",
    "To test, I am retrieving first 10 records."
   ]
  },
  {
   "cell_type": "code",
   "execution_count": 101,
   "metadata": {},
   "outputs": [
    {
     "data": {
      "text/html": [
       "<div>\n",
       "<style scoped>\n",
       "    .dataframe tbody tr th:only-of-type {\n",
       "        vertical-align: middle;\n",
       "    }\n",
       "\n",
       "    .dataframe tbody tr th {\n",
       "        vertical-align: top;\n",
       "    }\n",
       "\n",
       "    .dataframe thead th {\n",
       "        text-align: right;\n",
       "    }\n",
       "</style>\n",
       "<table border=\"1\" class=\"dataframe\">\n",
       "  <thead>\n",
       "    <tr style=\"text-align: right;\">\n",
       "      <th></th>\n",
       "      <th>Index</th>\n",
       "      <th>magnitude</th>\n",
       "      <th>location</th>\n",
       "      <th>latitude</th>\n",
       "      <th>longitude</th>\n",
       "      <th>canton</th>\n",
       "      <th>local_Time</th>\n",
       "    </tr>\n",
       "  </thead>\n",
       "  <tbody>\n",
       "    <tr>\n",
       "      <th>0</th>\n",
       "      <td>53</td>\n",
       "      <td>2.3</td>\n",
       "      <td>Lausanne VD</td>\n",
       "      <td>46.51</td>\n",
       "      <td>6.74</td>\n",
       "      <td>Vaud</td>\n",
       "      <td>2025-01-15 05:11:13</td>\n",
       "    </tr>\n",
       "    <tr>\n",
       "      <th>1</th>\n",
       "      <td>125</td>\n",
       "      <td>2.1</td>\n",
       "      <td>Samnaun GR</td>\n",
       "      <td>46.90</td>\n",
       "      <td>10.31</td>\n",
       "      <td>Graubünden</td>\n",
       "      <td>2025-01-06 15:23:19</td>\n",
       "    </tr>\n",
       "    <tr>\n",
       "      <th>2</th>\n",
       "      <td>127</td>\n",
       "      <td>2.3</td>\n",
       "      <td>Cevio TI</td>\n",
       "      <td>46.34</td>\n",
       "      <td>8.55</td>\n",
       "      <td>Ticino</td>\n",
       "      <td>2025-01-06 09:56:49</td>\n",
       "    </tr>\n",
       "    <tr>\n",
       "      <th>3</th>\n",
       "      <td>131</td>\n",
       "      <td>2.2</td>\n",
       "      <td>Kreuzlingen TG</td>\n",
       "      <td>47.63</td>\n",
       "      <td>9.21</td>\n",
       "      <td>Thurgau</td>\n",
       "      <td>2025-01-05 16:54:55</td>\n",
       "    </tr>\n",
       "    <tr>\n",
       "      <th>4</th>\n",
       "      <td>136</td>\n",
       "      <td>2.0</td>\n",
       "      <td>Savognin GR</td>\n",
       "      <td>46.59</td>\n",
       "      <td>9.57</td>\n",
       "      <td>Graubünden</td>\n",
       "      <td>2025-01-03 15:29:42</td>\n",
       "    </tr>\n",
       "    <tr>\n",
       "      <th>5</th>\n",
       "      <td>152</td>\n",
       "      <td>2.2</td>\n",
       "      <td>Boncourt JU</td>\n",
       "      <td>47.48</td>\n",
       "      <td>7.01</td>\n",
       "      <td>Jura</td>\n",
       "      <td>2024-12-31 07:33:28</td>\n",
       "    </tr>\n",
       "    <tr>\n",
       "      <th>6</th>\n",
       "      <td>232</td>\n",
       "      <td>2.4</td>\n",
       "      <td>Weinfelden TG</td>\n",
       "      <td>47.60</td>\n",
       "      <td>9.08</td>\n",
       "      <td>Thurgau</td>\n",
       "      <td>2024-12-20 16:17:11</td>\n",
       "    </tr>\n",
       "    <tr>\n",
       "      <th>7</th>\n",
       "      <td>278</td>\n",
       "      <td>2.3</td>\n",
       "      <td>Sanetschpass VS</td>\n",
       "      <td>46.33</td>\n",
       "      <td>7.39</td>\n",
       "      <td>Valais</td>\n",
       "      <td>2024-12-13 08:24:30</td>\n",
       "    </tr>\n",
       "    <tr>\n",
       "      <th>8</th>\n",
       "      <td>285</td>\n",
       "      <td>2.4</td>\n",
       "      <td>Saas Fee VS</td>\n",
       "      <td>46.05</td>\n",
       "      <td>7.93</td>\n",
       "      <td>Valais</td>\n",
       "      <td>2024-12-12 05:31:24</td>\n",
       "    </tr>\n",
       "    <tr>\n",
       "      <th>9</th>\n",
       "      <td>286</td>\n",
       "      <td>2.0</td>\n",
       "      <td>Saas Fee VS</td>\n",
       "      <td>46.05</td>\n",
       "      <td>7.92</td>\n",
       "      <td>Valais</td>\n",
       "      <td>2024-12-12 05:31:10</td>\n",
       "    </tr>\n",
       "  </tbody>\n",
       "</table>\n",
       "</div>"
      ],
      "text/plain": [
       "   Index  magnitude         location  latitude  longitude      canton  \\\n",
       "0     53        2.3      Lausanne VD     46.51       6.74        Vaud   \n",
       "1    125        2.1       Samnaun GR     46.90      10.31  Graubünden   \n",
       "2    127        2.3         Cevio TI     46.34       8.55      Ticino   \n",
       "3    131        2.2   Kreuzlingen TG     47.63       9.21     Thurgau   \n",
       "4    136        2.0      Savognin GR     46.59       9.57  Graubünden   \n",
       "5    152        2.2      Boncourt JU     47.48       7.01        Jura   \n",
       "6    232        2.4    Weinfelden TG     47.60       9.08     Thurgau   \n",
       "7    278        2.3  Sanetschpass VS     46.33       7.39      Valais   \n",
       "8    285        2.4      Saas Fee VS     46.05       7.93      Valais   \n",
       "9    286        2.0      Saas Fee VS     46.05       7.92      Valais   \n",
       "\n",
       "           local_Time  \n",
       "0 2025-01-15 05:11:13  \n",
       "1 2025-01-06 15:23:19  \n",
       "2 2025-01-06 09:56:49  \n",
       "3 2025-01-05 16:54:55  \n",
       "4 2025-01-03 15:29:42  \n",
       "5 2024-12-31 07:33:28  \n",
       "6 2024-12-20 16:17:11  \n",
       "7 2024-12-13 08:24:30  \n",
       "8 2024-12-12 05:31:24  \n",
       "9 2024-12-12 05:31:10  "
      ]
     },
     "execution_count": 101,
     "metadata": {},
     "output_type": "execute_result"
    }
   ],
   "source": [
    "query = \"SELECT * FROM earthquakes LIMIT 10;\"\n",
    "pd.read_sql(query, engine)"
   ]
  },
  {
   "cell_type": "markdown",
   "metadata": {},
   "source": [
    "### SQL Agent"
   ]
  },
  {
   "cell_type": "code",
   "execution_count": 102,
   "metadata": {},
   "outputs": [],
   "source": [
    "from langchain_community.agent_toolkits import SQLDatabaseToolkit\n",
    "from langchain_community.utilities import SQLDatabase\n",
    "from langchain.agents import create_sql_agent, AgentExecutor\n",
    "from langchain.agents.agent_types import AgentType\n",
    "\n",
    "db = SQLDatabase.from_uri(f'postgresql://{db_user}:{db_pass}@{db_host}:{db_port}/{db_name}')\n",
    "\n",
    "# Create a SQLDatabase Toolkit (this contains the necessary tools)\n",
    "toolkit = SQLDatabaseToolkit(db=db, llm=chat)\n"
   ]
  },
  {
   "cell_type": "code",
   "execution_count": 111,
   "metadata": {},
   "outputs": [
    {
     "name": "stdout",
     "output_type": "stream",
     "text": [
      "['sql_db_query', 'sql_db_schema', 'sql_db_list_tables', 'sql_db_query_checker']\n"
     ]
    }
   ],
   "source": [
    "tools = toolkit.get_tools()\n",
    "print([tool.name for tool in tools])"
   ]
  },
  {
   "cell_type": "code",
   "execution_count": 104,
   "metadata": {},
   "outputs": [],
   "source": [
    "# Define prompt\n",
    "# prompt = ChatPromptTemplate.from_template(\"{input}\")\n",
    "prompt = ChatPromptTemplate.from_template(\n",
    "    \"{input}\\n\\nPrevious Actions:\\n{agent_scratchpad}\"\n",
    ")\n",
    "\n",
    "# Create LangChain SQL agent\n",
    "sql_agent = create_openai_tools_agent(\n",
    "    llm=chat,\n",
    "    tools=tools,\n",
    "    prompt=prompt,\n",
    ")\n",
    "\n",
    "# Create agent executor\n",
    "agent_executor = AgentExecutor(agent=sql_agent,\n",
    "                               tools=tools,\n",
    "                               verbose=False)"
   ]
  },
  {
   "cell_type": "markdown",
   "metadata": {},
   "source": [
    "### Simple questions"
   ]
  },
  {
   "cell_type": "markdown",
   "metadata": {},
   "source": [
    "- 10 first records"
   ]
  },
  {
   "cell_type": "code",
   "execution_count": 76,
   "metadata": {},
   "outputs": [
    {
     "name": "stdout",
     "output_type": "stream",
     "text": [
      "Here are the first 10 records from the earthquakes table:\n",
      "\n",
      "1. ID: 53, Magnitude: 2.3, Location: Lausanne VD, Latitude: 46.51, Longitude: 6.74, Canton: Vaud, Date: 2025-01-15 05:11:13\n",
      "2. ID: 125, Magnitude: 2.1, Location: Samnaun GR, Latitude: 46.9, Longitude: 10.31, Canton: Graubünden, Date: 2025-01-06 15:23:19\n",
      "3. ID: 127, Magnitude: 2.3, Location: Cevio TI, Latitude: 46.34, Longitude: 8.55, Canton: Ticino, Date: 2025-01-06 09:56:49\n",
      "4. ID: 131, Magnitude: 2.2, Location: Kreuzlingen TG, Latitude: 47.63, Longitude: 9.21, Canton: Thurgau, Date: 2025-01-05 16:54:55\n",
      "5. ID: 136, Magnitude: 2.0, Location: Savognin GR, Latitude: 46.59, Longitude: 9.57, Canton: Graubünden, Date: 2025-01-03 15:29:42\n",
      "6. ID: 152, Magnitude: 2.2, Location: Boncourt JU, Latitude: 47.48, Longitude: 7.01, Canton: Jura, Date: 2024-12-31 07:33:28\n",
      "7. ID: 232, Magnitude: 2.4, Location: Weinfelden TG, Latitude: 47.6, Longitude: 9.08, Canton: Thurgau, Date: 2024-12-20 16:17:11\n",
      "8. ID: 278, Magnitude: 2.3, Location: Sanetschpass VS, Latitude: 46.33, Longitude: 7.39, Canton: Valais, Date: 2024-12-13 08:24:30\n",
      "9. ID: 285, Magnitude: 2.4, Location: Saas Fee VS, Latitude: 46.05, Longitude: 7.93, Canton: Valais, Date: 2024-12-12 05:31:24\n",
      "10. ID: 286, Magnitude: 2.0, Location: Saas Fee VS, Latitude: 46.05, Longitude: 7.92, Canton: Valais, Date: 2024-12-12 05:31:10\n"
     ]
    }
   ],
   "source": [
    "response1 = agent_executor.invoke({\"input\": \"Display the first 10 records from the earthquakes table.\"})\n",
    "print(response1['output'])"
   ]
  },
  {
   "cell_type": "markdown",
   "metadata": {},
   "source": [
    "- strongest earthquake recorded"
   ]
  },
  {
   "cell_type": "code",
   "execution_count": 77,
   "metadata": {},
   "outputs": [
    {
     "name": "stdout",
     "output_type": "stream",
     "text": [
      "The earthquake with the highest magnitude recorded in the database occurred at 'Pragelpass GL/SZ' with a magnitude of 4.4. The coordinates for this earthquake are 47.05 latitude and 8.86 longitude. It occurred in the 'Schwyz' canton on June 4, 2024, at 02:34:32.\n"
     ]
    }
   ],
   "source": [
    "response2 = agent_executor.invoke({\"input\": \"Retrieve the record of the earthquake of the most magnitude\"})\n",
    "print(response2['output'])"
   ]
  },
  {
   "cell_type": "markdown",
   "metadata": {},
   "source": [
    "- Oldest record"
   ]
  },
  {
   "cell_type": "code",
   "execution_count": 78,
   "metadata": {},
   "outputs": [
    {
     "name": "stdout",
     "output_type": "stream",
     "text": [
      "The oldest record in the \"earthquakes\" table is from January 14, 2020, at 23:47:03.\n"
     ]
    }
   ],
   "source": [
    "response4 = agent_executor.invoke({\"input\": \"when was the oldest record in earthquake table.\"})\n",
    "print(response4['output'])"
   ]
  },
  {
   "cell_type": "markdown",
   "metadata": {},
   "source": [
    "- Region with most earthquakes"
   ]
  },
  {
   "cell_type": "code",
   "execution_count": 105,
   "metadata": {},
   "outputs": [
    {
     "name": "stdout",
     "output_type": "stream",
     "text": [
      "The location in Switzerland that experiences the most earthquakes is Elm GL, with a total of 42 recorded earthquakes.\n"
     ]
    }
   ],
   "source": [
    "response5 = agent_executor.invoke({\"input\": \"In which swiss Location occurs the most earthquakes.\"})\n",
    "print(response5['output'])"
   ]
  },
  {
   "cell_type": "code",
   "execution_count": 106,
   "metadata": {},
   "outputs": [
    {
     "name": "stdout",
     "output_type": "stream",
     "text": [
      "The Swiss canton that experiences the most earthquakes is Valais, with a total of 71 recorded earthquakes.\n"
     ]
    }
   ],
   "source": [
    "response6 = agent_executor.invoke({\"input\": \"In which swiss canton occurs the most earthquakes\"})\n",
    "print(response6['output'])"
   ]
  },
  {
   "cell_type": "markdown",
   "metadata": {},
   "source": [
    "Add new tool"
   ]
  },
  {
   "cell_type": "code",
   "execution_count": 107,
   "metadata": {},
   "outputs": [],
   "source": [
    "import matplotlib\n",
    "from langchain_experimental.utilities import PythonREPL\n",
    "\n",
    "python_repl = PythonREPL()\n",
    "repl_tool = Tool(\n",
    "    name=\"python_repl\",\n",
    "    description=\"Executes python code and returns the result. The code runs in a static sandbox without interactive mode, so print output or save output to a file.\",\n",
    "    func=python_repl.run,\n",
    ")\n",
    "repl_tool.name = \"python_interpreter\""
   ]
  },
  {
   "cell_type": "code",
   "execution_count": 119,
   "metadata": {},
   "outputs": [
    {
     "name": "stdout",
     "output_type": "stream",
     "text": [
      "['sql_db_query', 'sql_db_schema', 'sql_db_list_tables', 'sql_db_query_checker', 'python_interpreter']\n"
     ]
    }
   ],
   "source": [
    "tools = toolkit.get_tools()\n",
    "tools.append(repl_tool)\n",
    "print([tool.name for tool in tools])"
   ]
  },
  {
   "cell_type": "code",
   "execution_count": 122,
   "metadata": {},
   "outputs": [
    {
     "name": "stdout",
     "output_type": "stream",
     "text": [
      "['sql_db_query', 'sql_db_schema', 'sql_db_list_tables', 'sql_db_query_checker', 'geo_plotter']\n"
     ]
    }
   ],
   "source": [
    "import matplotlib.pyplot as plt\n",
    "import geopandas as gpd\n",
    "from langchain_experimental.utilities import PythonREPL\n",
    "from langchain.tools import Tool\n",
    "\n",
    "def plot_geodata():\n",
    "    \"\"\"\n",
    "    Executes Python code to generate a geoplot.\n",
    "    The function assumes a predefined GeoDataFrame `gdf` is available.\n",
    "    \"\"\"\n",
    "    try:\n",
    "        # Load a sample dataset if gdf is not provided\n",
    "        world = gpd.read_file(gpd.datasets.get_path('naturalearth_lowres'))\n",
    "\n",
    "        # Create the plot\n",
    "        fig, ax = plt.subplots(figsize=(10, 6))\n",
    "        world.plot(ax=ax, color='lightgrey', edgecolor='black')\n",
    "\n",
    "        # Save the plot\n",
    "        plot_path = \"geoplot.png\"\n",
    "        plt.savefig(plot_path)\n",
    "        plt.close()\n",
    "\n",
    "        return f\"GeoPlot saved as {plot_path}\"\n",
    "\n",
    "    except Exception as e:\n",
    "        return f\"Error in plotting: {str(e)}\"\n",
    "\n",
    "# Define the tool\n",
    "repl_tool = Tool(\n",
    "    name=\"geo_plotter\",\n",
    "    description=\"Generates a geoplot. Assumes geospatial data is available and plots it using GeoPandas & Matplotlib.\",\n",
    "    func=plot_geodata\n",
    ")\n",
    "\n",
    "# Add the tool to the SQL agent tools\n",
    "tools = toolkit.get_tools()\n",
    "tools.append(repl_tool)\n",
    "\n",
    "# Verify tools\n",
    "print([tool.name for tool in tools])\n"
   ]
  },
  {
   "cell_type": "code",
   "execution_count": 123,
   "metadata": {},
   "outputs": [],
   "source": [
    "# Define prompt\n",
    "# prompt = ChatPromptTemplate.from_template(\"{input}\")\n",
    "prompt = ChatPromptTemplate.from_template(\n",
    "    \"{input}\\n\\nPrevious Actions:\\n{agent_scratchpad}\"\n",
    ")\n",
    "\n",
    "# Create LangChain SQL agent\n",
    "sql_agent = create_openai_tools_agent(\n",
    "    llm=chat,\n",
    "    tools=tools,\n",
    "    prompt=prompt,\n",
    ")\n",
    "\n",
    "# Create agent executor\n",
    "agent_executor = AgentExecutor(agent=sql_agent,\n",
    "                               tools=tools,\n",
    "                               verbose=False)"
   ]
  },
  {
   "cell_type": "code",
   "execution_count": 124,
   "metadata": {},
   "outputs": [
    {
     "ename": "TypeError",
     "evalue": "plot_geodata() takes 0 positional arguments but 1 was given",
     "output_type": "error",
     "traceback": [
      "\u001b[0;31m---------------------------------------------------------------------------\u001b[0m",
      "\u001b[0;31mTypeError\u001b[0m                                 Traceback (most recent call last)",
      "Cell \u001b[0;32mIn[124], line 1\u001b[0m\n\u001b[0;32m----> 1\u001b[0m response7 \u001b[38;5;241m=\u001b[39m \u001b[43magent_executor\u001b[49m\u001b[38;5;241;43m.\u001b[39;49m\u001b[43minvoke\u001b[49m\u001b[43m(\u001b[49m\u001b[43m{\u001b[49m\u001b[38;5;124;43m\"\u001b[39;49m\u001b[38;5;124;43minput\u001b[39;49m\u001b[38;5;124;43m\"\u001b[39;49m\u001b[43m:\u001b[49m\u001b[43m \u001b[49m\u001b[38;5;124;43m\"\u001b[39;49m\u001b[38;5;124;43mCount number of earthquakes for each canton and plot it in geoplot\u001b[39;49m\u001b[38;5;124;43m\"\u001b[39;49m\u001b[43m}\u001b[49m\u001b[43m)\u001b[49m\n\u001b[1;32m      2\u001b[0m \u001b[38;5;28mprint\u001b[39m(response7)\n",
      "File \u001b[0;32m~/Documents/Python/LLM agents/.venv/lib/python3.10/site-packages/langchain/chains/base.py:170\u001b[0m, in \u001b[0;36mChain.invoke\u001b[0;34m(self, input, config, **kwargs)\u001b[0m\n\u001b[1;32m    168\u001b[0m \u001b[38;5;28;01mexcept\u001b[39;00m \u001b[38;5;167;01mBaseException\u001b[39;00m \u001b[38;5;28;01mas\u001b[39;00m e:\n\u001b[1;32m    169\u001b[0m     run_manager\u001b[38;5;241m.\u001b[39mon_chain_error(e)\n\u001b[0;32m--> 170\u001b[0m     \u001b[38;5;28;01mraise\u001b[39;00m e\n\u001b[1;32m    171\u001b[0m run_manager\u001b[38;5;241m.\u001b[39mon_chain_end(outputs)\n\u001b[1;32m    173\u001b[0m \u001b[38;5;28;01mif\u001b[39;00m include_run_info:\n",
      "File \u001b[0;32m~/Documents/Python/LLM agents/.venv/lib/python3.10/site-packages/langchain/chains/base.py:160\u001b[0m, in \u001b[0;36mChain.invoke\u001b[0;34m(self, input, config, **kwargs)\u001b[0m\n\u001b[1;32m    157\u001b[0m \u001b[38;5;28;01mtry\u001b[39;00m:\n\u001b[1;32m    158\u001b[0m     \u001b[38;5;28mself\u001b[39m\u001b[38;5;241m.\u001b[39m_validate_inputs(inputs)\n\u001b[1;32m    159\u001b[0m     outputs \u001b[38;5;241m=\u001b[39m (\n\u001b[0;32m--> 160\u001b[0m         \u001b[38;5;28;43mself\u001b[39;49m\u001b[38;5;241;43m.\u001b[39;49m\u001b[43m_call\u001b[49m\u001b[43m(\u001b[49m\u001b[43minputs\u001b[49m\u001b[43m,\u001b[49m\u001b[43m \u001b[49m\u001b[43mrun_manager\u001b[49m\u001b[38;5;241;43m=\u001b[39;49m\u001b[43mrun_manager\u001b[49m\u001b[43m)\u001b[49m\n\u001b[1;32m    161\u001b[0m         \u001b[38;5;28;01mif\u001b[39;00m new_arg_supported\n\u001b[1;32m    162\u001b[0m         \u001b[38;5;28;01melse\u001b[39;00m \u001b[38;5;28mself\u001b[39m\u001b[38;5;241m.\u001b[39m_call(inputs)\n\u001b[1;32m    163\u001b[0m     )\n\u001b[1;32m    165\u001b[0m     final_outputs: Dict[\u001b[38;5;28mstr\u001b[39m, Any] \u001b[38;5;241m=\u001b[39m \u001b[38;5;28mself\u001b[39m\u001b[38;5;241m.\u001b[39mprep_outputs(\n\u001b[1;32m    166\u001b[0m         inputs, outputs, return_only_outputs\n\u001b[1;32m    167\u001b[0m     )\n\u001b[1;32m    168\u001b[0m \u001b[38;5;28;01mexcept\u001b[39;00m \u001b[38;5;167;01mBaseException\u001b[39;00m \u001b[38;5;28;01mas\u001b[39;00m e:\n",
      "File \u001b[0;32m~/Documents/Python/LLM agents/.venv/lib/python3.10/site-packages/langchain/agents/agent.py:1624\u001b[0m, in \u001b[0;36mAgentExecutor._call\u001b[0;34m(self, inputs, run_manager)\u001b[0m\n\u001b[1;32m   1622\u001b[0m \u001b[38;5;66;03m# We now enter the agent loop (until it returns something).\u001b[39;00m\n\u001b[1;32m   1623\u001b[0m \u001b[38;5;28;01mwhile\u001b[39;00m \u001b[38;5;28mself\u001b[39m\u001b[38;5;241m.\u001b[39m_should_continue(iterations, time_elapsed):\n\u001b[0;32m-> 1624\u001b[0m     next_step_output \u001b[38;5;241m=\u001b[39m \u001b[38;5;28;43mself\u001b[39;49m\u001b[38;5;241;43m.\u001b[39;49m\u001b[43m_take_next_step\u001b[49m\u001b[43m(\u001b[49m\n\u001b[1;32m   1625\u001b[0m \u001b[43m        \u001b[49m\u001b[43mname_to_tool_map\u001b[49m\u001b[43m,\u001b[49m\n\u001b[1;32m   1626\u001b[0m \u001b[43m        \u001b[49m\u001b[43mcolor_mapping\u001b[49m\u001b[43m,\u001b[49m\n\u001b[1;32m   1627\u001b[0m \u001b[43m        \u001b[49m\u001b[43minputs\u001b[49m\u001b[43m,\u001b[49m\n\u001b[1;32m   1628\u001b[0m \u001b[43m        \u001b[49m\u001b[43mintermediate_steps\u001b[49m\u001b[43m,\u001b[49m\n\u001b[1;32m   1629\u001b[0m \u001b[43m        \u001b[49m\u001b[43mrun_manager\u001b[49m\u001b[38;5;241;43m=\u001b[39;49m\u001b[43mrun_manager\u001b[49m\u001b[43m,\u001b[49m\n\u001b[1;32m   1630\u001b[0m \u001b[43m    \u001b[49m\u001b[43m)\u001b[49m\n\u001b[1;32m   1631\u001b[0m     \u001b[38;5;28;01mif\u001b[39;00m \u001b[38;5;28misinstance\u001b[39m(next_step_output, AgentFinish):\n\u001b[1;32m   1632\u001b[0m         \u001b[38;5;28;01mreturn\u001b[39;00m \u001b[38;5;28mself\u001b[39m\u001b[38;5;241m.\u001b[39m_return(\n\u001b[1;32m   1633\u001b[0m             next_step_output, intermediate_steps, run_manager\u001b[38;5;241m=\u001b[39mrun_manager\n\u001b[1;32m   1634\u001b[0m         )\n",
      "File \u001b[0;32m~/Documents/Python/LLM agents/.venv/lib/python3.10/site-packages/langchain/agents/agent.py:1330\u001b[0m, in \u001b[0;36mAgentExecutor._take_next_step\u001b[0;34m(self, name_to_tool_map, color_mapping, inputs, intermediate_steps, run_manager)\u001b[0m\n\u001b[1;32m   1321\u001b[0m \u001b[38;5;28;01mdef\u001b[39;00m\u001b[38;5;250m \u001b[39m\u001b[38;5;21m_take_next_step\u001b[39m(\n\u001b[1;32m   1322\u001b[0m     \u001b[38;5;28mself\u001b[39m,\n\u001b[1;32m   1323\u001b[0m     name_to_tool_map: Dict[\u001b[38;5;28mstr\u001b[39m, BaseTool],\n\u001b[0;32m   (...)\u001b[0m\n\u001b[1;32m   1327\u001b[0m     run_manager: Optional[CallbackManagerForChainRun] \u001b[38;5;241m=\u001b[39m \u001b[38;5;28;01mNone\u001b[39;00m,\n\u001b[1;32m   1328\u001b[0m ) \u001b[38;5;241m-\u001b[39m\u001b[38;5;241m>\u001b[39m Union[AgentFinish, List[Tuple[AgentAction, \u001b[38;5;28mstr\u001b[39m]]]:\n\u001b[1;32m   1329\u001b[0m     \u001b[38;5;28;01mreturn\u001b[39;00m \u001b[38;5;28mself\u001b[39m\u001b[38;5;241m.\u001b[39m_consume_next_step(\n\u001b[0;32m-> 1330\u001b[0m         [\n\u001b[1;32m   1331\u001b[0m             a\n\u001b[1;32m   1332\u001b[0m             \u001b[38;5;28;01mfor\u001b[39;00m a \u001b[38;5;129;01min\u001b[39;00m \u001b[38;5;28mself\u001b[39m\u001b[38;5;241m.\u001b[39m_iter_next_step(\n\u001b[1;32m   1333\u001b[0m                 name_to_tool_map,\n\u001b[1;32m   1334\u001b[0m                 color_mapping,\n\u001b[1;32m   1335\u001b[0m                 inputs,\n\u001b[1;32m   1336\u001b[0m                 intermediate_steps,\n\u001b[1;32m   1337\u001b[0m                 run_manager,\n\u001b[1;32m   1338\u001b[0m             )\n\u001b[1;32m   1339\u001b[0m         ]\n\u001b[1;32m   1340\u001b[0m     )\n",
      "File \u001b[0;32m~/Documents/Python/LLM agents/.venv/lib/python3.10/site-packages/langchain/agents/agent.py:1330\u001b[0m, in \u001b[0;36m<listcomp>\u001b[0;34m(.0)\u001b[0m\n\u001b[1;32m   1321\u001b[0m \u001b[38;5;28;01mdef\u001b[39;00m\u001b[38;5;250m \u001b[39m\u001b[38;5;21m_take_next_step\u001b[39m(\n\u001b[1;32m   1322\u001b[0m     \u001b[38;5;28mself\u001b[39m,\n\u001b[1;32m   1323\u001b[0m     name_to_tool_map: Dict[\u001b[38;5;28mstr\u001b[39m, BaseTool],\n\u001b[0;32m   (...)\u001b[0m\n\u001b[1;32m   1327\u001b[0m     run_manager: Optional[CallbackManagerForChainRun] \u001b[38;5;241m=\u001b[39m \u001b[38;5;28;01mNone\u001b[39;00m,\n\u001b[1;32m   1328\u001b[0m ) \u001b[38;5;241m-\u001b[39m\u001b[38;5;241m>\u001b[39m Union[AgentFinish, List[Tuple[AgentAction, \u001b[38;5;28mstr\u001b[39m]]]:\n\u001b[1;32m   1329\u001b[0m     \u001b[38;5;28;01mreturn\u001b[39;00m \u001b[38;5;28mself\u001b[39m\u001b[38;5;241m.\u001b[39m_consume_next_step(\n\u001b[0;32m-> 1330\u001b[0m         [\n\u001b[1;32m   1331\u001b[0m             a\n\u001b[1;32m   1332\u001b[0m             \u001b[38;5;28;01mfor\u001b[39;00m a \u001b[38;5;129;01min\u001b[39;00m \u001b[38;5;28mself\u001b[39m\u001b[38;5;241m.\u001b[39m_iter_next_step(\n\u001b[1;32m   1333\u001b[0m                 name_to_tool_map,\n\u001b[1;32m   1334\u001b[0m                 color_mapping,\n\u001b[1;32m   1335\u001b[0m                 inputs,\n\u001b[1;32m   1336\u001b[0m                 intermediate_steps,\n\u001b[1;32m   1337\u001b[0m                 run_manager,\n\u001b[1;32m   1338\u001b[0m             )\n\u001b[1;32m   1339\u001b[0m         ]\n\u001b[1;32m   1340\u001b[0m     )\n",
      "File \u001b[0;32m~/Documents/Python/LLM agents/.venv/lib/python3.10/site-packages/langchain/agents/agent.py:1415\u001b[0m, in \u001b[0;36mAgentExecutor._iter_next_step\u001b[0;34m(self, name_to_tool_map, color_mapping, inputs, intermediate_steps, run_manager)\u001b[0m\n\u001b[1;32m   1413\u001b[0m     \u001b[38;5;28;01myield\u001b[39;00m agent_action\n\u001b[1;32m   1414\u001b[0m \u001b[38;5;28;01mfor\u001b[39;00m agent_action \u001b[38;5;129;01min\u001b[39;00m actions:\n\u001b[0;32m-> 1415\u001b[0m     \u001b[38;5;28;01myield\u001b[39;00m \u001b[38;5;28;43mself\u001b[39;49m\u001b[38;5;241;43m.\u001b[39;49m\u001b[43m_perform_agent_action\u001b[49m\u001b[43m(\u001b[49m\n\u001b[1;32m   1416\u001b[0m \u001b[43m        \u001b[49m\u001b[43mname_to_tool_map\u001b[49m\u001b[43m,\u001b[49m\u001b[43m \u001b[49m\u001b[43mcolor_mapping\u001b[49m\u001b[43m,\u001b[49m\u001b[43m \u001b[49m\u001b[43magent_action\u001b[49m\u001b[43m,\u001b[49m\u001b[43m \u001b[49m\u001b[43mrun_manager\u001b[49m\n\u001b[1;32m   1417\u001b[0m \u001b[43m    \u001b[49m\u001b[43m)\u001b[49m\n",
      "File \u001b[0;32m~/Documents/Python/LLM agents/.venv/lib/python3.10/site-packages/langchain/agents/agent.py:1437\u001b[0m, in \u001b[0;36mAgentExecutor._perform_agent_action\u001b[0;34m(self, name_to_tool_map, color_mapping, agent_action, run_manager)\u001b[0m\n\u001b[1;32m   1435\u001b[0m         tool_run_kwargs[\u001b[38;5;124m\"\u001b[39m\u001b[38;5;124mllm_prefix\u001b[39m\u001b[38;5;124m\"\u001b[39m] \u001b[38;5;241m=\u001b[39m \u001b[38;5;124m\"\u001b[39m\u001b[38;5;124m\"\u001b[39m\n\u001b[1;32m   1436\u001b[0m     \u001b[38;5;66;03m# We then call the tool on the tool input to get an observation\u001b[39;00m\n\u001b[0;32m-> 1437\u001b[0m     observation \u001b[38;5;241m=\u001b[39m \u001b[43mtool\u001b[49m\u001b[38;5;241;43m.\u001b[39;49m\u001b[43mrun\u001b[49m\u001b[43m(\u001b[49m\n\u001b[1;32m   1438\u001b[0m \u001b[43m        \u001b[49m\u001b[43magent_action\u001b[49m\u001b[38;5;241;43m.\u001b[39;49m\u001b[43mtool_input\u001b[49m\u001b[43m,\u001b[49m\n\u001b[1;32m   1439\u001b[0m \u001b[43m        \u001b[49m\u001b[43mverbose\u001b[49m\u001b[38;5;241;43m=\u001b[39;49m\u001b[38;5;28;43mself\u001b[39;49m\u001b[38;5;241;43m.\u001b[39;49m\u001b[43mverbose\u001b[49m\u001b[43m,\u001b[49m\n\u001b[1;32m   1440\u001b[0m \u001b[43m        \u001b[49m\u001b[43mcolor\u001b[49m\u001b[38;5;241;43m=\u001b[39;49m\u001b[43mcolor\u001b[49m\u001b[43m,\u001b[49m\n\u001b[1;32m   1441\u001b[0m \u001b[43m        \u001b[49m\u001b[43mcallbacks\u001b[49m\u001b[38;5;241;43m=\u001b[39;49m\u001b[43mrun_manager\u001b[49m\u001b[38;5;241;43m.\u001b[39;49m\u001b[43mget_child\u001b[49m\u001b[43m(\u001b[49m\u001b[43m)\u001b[49m\u001b[43m \u001b[49m\u001b[38;5;28;43;01mif\u001b[39;49;00m\u001b[43m \u001b[49m\u001b[43mrun_manager\u001b[49m\u001b[43m \u001b[49m\u001b[38;5;28;43;01melse\u001b[39;49;00m\u001b[43m \u001b[49m\u001b[38;5;28;43;01mNone\u001b[39;49;00m\u001b[43m,\u001b[49m\n\u001b[1;32m   1442\u001b[0m \u001b[43m        \u001b[49m\u001b[38;5;241;43m*\u001b[39;49m\u001b[38;5;241;43m*\u001b[39;49m\u001b[43mtool_run_kwargs\u001b[49m\u001b[43m,\u001b[49m\n\u001b[1;32m   1443\u001b[0m \u001b[43m    \u001b[49m\u001b[43m)\u001b[49m\n\u001b[1;32m   1444\u001b[0m \u001b[38;5;28;01melse\u001b[39;00m:\n\u001b[1;32m   1445\u001b[0m     tool_run_kwargs \u001b[38;5;241m=\u001b[39m \u001b[38;5;28mself\u001b[39m\u001b[38;5;241m.\u001b[39m_action_agent\u001b[38;5;241m.\u001b[39mtool_run_logging_kwargs()\n",
      "File \u001b[0;32m~/Documents/Python/LLM agents/.venv/lib/python3.10/site-packages/langchain_core/tools/base.py:725\u001b[0m, in \u001b[0;36mBaseTool.run\u001b[0;34m(self, tool_input, verbose, start_color, color, callbacks, tags, metadata, run_name, run_id, config, tool_call_id, **kwargs)\u001b[0m\n\u001b[1;32m    723\u001b[0m \u001b[38;5;28;01mif\u001b[39;00m error_to_raise:\n\u001b[1;32m    724\u001b[0m     run_manager\u001b[38;5;241m.\u001b[39mon_tool_error(error_to_raise)\n\u001b[0;32m--> 725\u001b[0m     \u001b[38;5;28;01mraise\u001b[39;00m error_to_raise\n\u001b[1;32m    726\u001b[0m output \u001b[38;5;241m=\u001b[39m _format_output(content, artifact, tool_call_id, \u001b[38;5;28mself\u001b[39m\u001b[38;5;241m.\u001b[39mname, status)\n\u001b[1;32m    727\u001b[0m run_manager\u001b[38;5;241m.\u001b[39mon_tool_end(output, color\u001b[38;5;241m=\u001b[39mcolor, name\u001b[38;5;241m=\u001b[39m\u001b[38;5;28mself\u001b[39m\u001b[38;5;241m.\u001b[39mname, \u001b[38;5;241m*\u001b[39m\u001b[38;5;241m*\u001b[39mkwargs)\n",
      "File \u001b[0;32m~/Documents/Python/LLM agents/.venv/lib/python3.10/site-packages/langchain_core/tools/base.py:694\u001b[0m, in \u001b[0;36mBaseTool.run\u001b[0;34m(self, tool_input, verbose, start_color, color, callbacks, tags, metadata, run_name, run_id, config, tool_call_id, **kwargs)\u001b[0m\n\u001b[1;32m    692\u001b[0m \u001b[38;5;28;01mif\u001b[39;00m config_param \u001b[38;5;241m:=\u001b[39m _get_runnable_config_param(\u001b[38;5;28mself\u001b[39m\u001b[38;5;241m.\u001b[39m_run):\n\u001b[1;32m    693\u001b[0m     tool_kwargs \u001b[38;5;241m=\u001b[39m tool_kwargs \u001b[38;5;241m|\u001b[39m {config_param: config}\n\u001b[0;32m--> 694\u001b[0m response \u001b[38;5;241m=\u001b[39m \u001b[43mcontext\u001b[49m\u001b[38;5;241;43m.\u001b[39;49m\u001b[43mrun\u001b[49m\u001b[43m(\u001b[49m\u001b[38;5;28;43mself\u001b[39;49m\u001b[38;5;241;43m.\u001b[39;49m\u001b[43m_run\u001b[49m\u001b[43m,\u001b[49m\u001b[43m \u001b[49m\u001b[38;5;241;43m*\u001b[39;49m\u001b[43mtool_args\u001b[49m\u001b[43m,\u001b[49m\u001b[43m \u001b[49m\u001b[38;5;241;43m*\u001b[39;49m\u001b[38;5;241;43m*\u001b[39;49m\u001b[43mtool_kwargs\u001b[49m\u001b[43m)\u001b[49m\n\u001b[1;32m    695\u001b[0m \u001b[38;5;28;01mif\u001b[39;00m \u001b[38;5;28mself\u001b[39m\u001b[38;5;241m.\u001b[39mresponse_format \u001b[38;5;241m==\u001b[39m \u001b[38;5;124m\"\u001b[39m\u001b[38;5;124mcontent_and_artifact\u001b[39m\u001b[38;5;124m\"\u001b[39m:\n\u001b[1;32m    696\u001b[0m     \u001b[38;5;28;01mif\u001b[39;00m \u001b[38;5;129;01mnot\u001b[39;00m \u001b[38;5;28misinstance\u001b[39m(response, \u001b[38;5;28mtuple\u001b[39m) \u001b[38;5;129;01mor\u001b[39;00m \u001b[38;5;28mlen\u001b[39m(response) \u001b[38;5;241m!=\u001b[39m \u001b[38;5;241m2\u001b[39m:\n",
      "File \u001b[0;32m~/Documents/Python/LLM agents/.venv/lib/python3.10/site-packages/langchain_core/tools/simple.py:94\u001b[0m, in \u001b[0;36mTool._run\u001b[0;34m(self, config, run_manager, *args, **kwargs)\u001b[0m\n\u001b[1;32m     92\u001b[0m     \u001b[38;5;28;01mif\u001b[39;00m config_param \u001b[38;5;241m:=\u001b[39m _get_runnable_config_param(\u001b[38;5;28mself\u001b[39m\u001b[38;5;241m.\u001b[39mfunc):\n\u001b[1;32m     93\u001b[0m         kwargs[config_param] \u001b[38;5;241m=\u001b[39m config\n\u001b[0;32m---> 94\u001b[0m     \u001b[38;5;28;01mreturn\u001b[39;00m \u001b[38;5;28;43mself\u001b[39;49m\u001b[38;5;241;43m.\u001b[39;49m\u001b[43mfunc\u001b[49m\u001b[43m(\u001b[49m\u001b[38;5;241;43m*\u001b[39;49m\u001b[43margs\u001b[49m\u001b[43m,\u001b[49m\u001b[43m \u001b[49m\u001b[38;5;241;43m*\u001b[39;49m\u001b[38;5;241;43m*\u001b[39;49m\u001b[43mkwargs\u001b[49m\u001b[43m)\u001b[49m\n\u001b[1;32m     95\u001b[0m msg \u001b[38;5;241m=\u001b[39m \u001b[38;5;124m\"\u001b[39m\u001b[38;5;124mTool does not support sync invocation.\u001b[39m\u001b[38;5;124m\"\u001b[39m\n\u001b[1;32m     96\u001b[0m \u001b[38;5;28;01mraise\u001b[39;00m \u001b[38;5;167;01mNotImplementedError\u001b[39;00m(msg)\n",
      "\u001b[0;31mTypeError\u001b[0m: plot_geodata() takes 0 positional arguments but 1 was given"
     ]
    }
   ],
   "source": [
    "response7 = agent_executor.invoke({\"input\": \"Count number of earthquakes for each canton and plot it in geoplot\"})\n",
    "print(response7)"
   ]
  }
 ],
 "metadata": {
  "kernelspec": {
   "display_name": ".venv",
   "language": "python",
   "name": "python3"
  },
  "language_info": {
   "codemirror_mode": {
    "name": "ipython",
    "version": 3
   },
   "file_extension": ".py",
   "mimetype": "text/x-python",
   "name": "python",
   "nbconvert_exporter": "python",
   "pygments_lexer": "ipython3",
   "version": "3.10.10"
  }
 },
 "nbformat": 4,
 "nbformat_minor": 2
}
