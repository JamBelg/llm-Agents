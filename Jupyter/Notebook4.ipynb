{
 "cells": [
  {
   "cell_type": "markdown",
   "metadata": {},
   "source": [
    "### Load libraries"
   ]
  },
  {
   "cell_type": "code",
   "execution_count": 158,
   "metadata": {},
   "outputs": [],
   "source": [
    "from dotenv import load_dotenv\n",
    "import os\n",
    "\n",
    "from langchain.chat_models import ChatOpenAI\n",
    "from langchain.tools import Tool\n",
    "from langchain.agents import AgentExecutor, create_openai_tools_agent\n",
    "from langchain_core.prompts import ChatPromptTemplate\n",
    "\n",
    "import boto3\n",
    "import pandas as pd"
   ]
  },
  {
   "cell_type": "markdown",
   "metadata": {},
   "source": [
    "### Load environment variables\n",
    "I created .env file where I stored different api keys (AWS and openai)."
   ]
  },
  {
   "cell_type": "code",
   "execution_count": 159,
   "metadata": {},
   "outputs": [],
   "source": [
    "load_dotenv()\n",
    "\n",
    "AWS_ACCESS_KEY_ID = os.getenv(\"AWS_ACCESS_KEY_ID\")\n",
    "AWS_SECRET_ACCESS_KEY = os.getenv(\"AWS_SECRET_ACCESS_KEY\")\n",
    "AWS_REGION = os.getenv(\"AWS_REGION\")\n",
    "\n",
    "# Set the OpenAI API key\n",
    "OPENAI_API_KEY = os.getenv(\"OPENAI_API_KEY\")\n",
    "os.environ[\"OPENAI_API_KEY\"] = OPENAI_API_KEY"
   ]
  },
  {
   "cell_type": "markdown",
   "metadata": {},
   "source": [
    "### LLM\n",
    "I will use chatgpt 3.5 turbo as llm for this tutorial, You can use another llm models.\\\n",
    "[List of llm models that you can use with langchain](https://python.langchain.com/docs/integrations/chat/#all-chat-models)"
   ]
  },
  {
   "cell_type": "code",
   "execution_count": 160,
   "metadata": {},
   "outputs": [],
   "source": [
    "# Create the OpenAI chat model\n",
    "chat = ChatOpenAI(\n",
    "    model=\"gpt-4o-mini\",  # You can use also \"gpt-3.5-turbo\" / gpt-4 if you want\n",
    "    temperature=0.2\n",
    ")"
   ]
  },
  {
   "cell_type": "markdown",
   "metadata": {},
   "source": [
    "### Data\n",
    "I will use an S3 cluster data for this tutorial, I will upload data and then push it to postgres database."
   ]
  },
  {
   "cell_type": "markdown",
   "metadata": {},
   "source": [
    "##### Read S3"
   ]
  },
  {
   "cell_type": "code",
   "execution_count": 161,
   "metadata": {},
   "outputs": [],
   "source": [
    "os.environ[\"AWS_ACCESS_KEY_ID\"] = AWS_ACCESS_KEY_ID\n",
    "os.environ[\"AWS_SECRET_ACCESS_KEY\"]=AWS_SECRET_ACCESS_KEY\n",
    "# os.environ[\"AWS_REGION\"]= AWS_REGION\n",
    "\n",
    "# Initialize S3 client\n",
    "s3_client = boto3.client(\"s3\")\n",
    "\n",
    "# Function to list files in an S3 bucket\n",
    "def list_s3_objects(bucket_name):\n",
    "    response = s3_client.list_objects_v2(Bucket=bucket_name)\n",
    "    if \"Contents\" in response:\n",
    "        return [obj[\"Key\"] for obj in response[\"Contents\"]]\n",
    "    return \"No files found in the bucket.\"\n",
    "\n",
    "# Function to read a file from S3\n",
    "def read_s3_object(bucket_name, file_key):\n",
    "    response = s3_client.get_object(Bucket=bucket_name, Key=file_key)\n",
    "    # content = response[\"Body\"].read().decode(\"utf-8\")\n",
    "    content = pd.read_csv(response[\"Body\"])\n",
    "    return content\n"
   ]
  },
  {
   "cell_type": "code",
   "execution_count": 162,
   "metadata": {},
   "outputs": [
    {
     "data": {
      "text/plain": [
       "['data_etl.csv']"
      ]
     },
     "execution_count": 162,
     "metadata": {},
     "output_type": "execute_result"
    }
   ],
   "source": [
    "list_s3_objects(\"earthquakedb\")"
   ]
  },
  {
   "cell_type": "code",
   "execution_count": 163,
   "metadata": {},
   "outputs": [
    {
     "data": {
      "text/html": [
       "<div>\n",
       "<style scoped>\n",
       "    .dataframe tbody tr th:only-of-type {\n",
       "        vertical-align: middle;\n",
       "    }\n",
       "\n",
       "    .dataframe tbody tr th {\n",
       "        vertical-align: top;\n",
       "    }\n",
       "\n",
       "    .dataframe thead th {\n",
       "        text-align: right;\n",
       "    }\n",
       "</style>\n",
       "<table border=\"1\" class=\"dataframe\">\n",
       "  <thead>\n",
       "    <tr style=\"text-align: right;\">\n",
       "      <th></th>\n",
       "      <th>Unnamed: 0</th>\n",
       "      <th>Year</th>\n",
       "      <th>Local_Time</th>\n",
       "      <th>UTC_Time</th>\n",
       "      <th>Magnitude</th>\n",
       "      <th>Location</th>\n",
       "      <th>Depth</th>\n",
       "      <th>Latitude</th>\n",
       "      <th>Longitude</th>\n",
       "      <th>Event_type</th>\n",
       "      <th>Assessment</th>\n",
       "      <th>Agency</th>\n",
       "    </tr>\n",
       "  </thead>\n",
       "  <tbody>\n",
       "    <tr>\n",
       "      <th>0</th>\n",
       "      <td>0</td>\n",
       "      <td>2025</td>\n",
       "      <td>Feb 11 01:04:40</td>\n",
       "      <td>Feb 11 00:04:40</td>\n",
       "      <td>1.1</td>\n",
       "      <td>Zinal VS</td>\n",
       "      <td>6.7</td>\n",
       "      <td>46.15</td>\n",
       "      <td>7.71</td>\n",
       "      <td>NaN</td>\n",
       "      <td>automatic</td>\n",
       "      <td>SED</td>\n",
       "    </tr>\n",
       "    <tr>\n",
       "      <th>1</th>\n",
       "      <td>1</td>\n",
       "      <td>2025</td>\n",
       "      <td>Feb 10 22:50:01</td>\n",
       "      <td>Feb 10 21:50:01</td>\n",
       "      <td>0.7</td>\n",
       "      <td>Leukerbad VS</td>\n",
       "      <td>6.1</td>\n",
       "      <td>46.37</td>\n",
       "      <td>7.57</td>\n",
       "      <td>earthquake</td>\n",
       "      <td>manual</td>\n",
       "      <td>SED</td>\n",
       "    </tr>\n",
       "    <tr>\n",
       "      <th>2</th>\n",
       "      <td>2</td>\n",
       "      <td>2025</td>\n",
       "      <td>Feb 10 18:03:43</td>\n",
       "      <td>Feb 10 17:03:43</td>\n",
       "      <td>0.5</td>\n",
       "      <td>Chamonix F</td>\n",
       "      <td>5.9</td>\n",
       "      <td>45.90</td>\n",
       "      <td>7.01</td>\n",
       "      <td>earthquake</td>\n",
       "      <td>manual</td>\n",
       "      <td>SED</td>\n",
       "    </tr>\n",
       "    <tr>\n",
       "      <th>3</th>\n",
       "      <td>3</td>\n",
       "      <td>2025</td>\n",
       "      <td>Feb 10 14:35:00</td>\n",
       "      <td>Feb 10 13:35:00</td>\n",
       "      <td>0.7</td>\n",
       "      <td>Sanetschpass VS</td>\n",
       "      <td>3.1</td>\n",
       "      <td>46.32</td>\n",
       "      <td>7.34</td>\n",
       "      <td>earthquake</td>\n",
       "      <td>manual</td>\n",
       "      <td>SED</td>\n",
       "    </tr>\n",
       "    <tr>\n",
       "      <th>4</th>\n",
       "      <td>4</td>\n",
       "      <td>2025</td>\n",
       "      <td>Feb 10 07:59:28</td>\n",
       "      <td>Feb 10 06:59:28</td>\n",
       "      <td>1.6</td>\n",
       "      <td>Bourg-Saint-Pierre VS</td>\n",
       "      <td>5.4</td>\n",
       "      <td>45.93</td>\n",
       "      <td>7.04</td>\n",
       "      <td>earthquake</td>\n",
       "      <td>manual</td>\n",
       "      <td>SED</td>\n",
       "    </tr>\n",
       "    <tr>\n",
       "      <th>5</th>\n",
       "      <td>5</td>\n",
       "      <td>2025</td>\n",
       "      <td>Feb 10 07:29:21</td>\n",
       "      <td>Feb 10 06:29:21</td>\n",
       "      <td>1.1</td>\n",
       "      <td>Aosta I</td>\n",
       "      <td>10.3</td>\n",
       "      <td>45.80</td>\n",
       "      <td>7.44</td>\n",
       "      <td>earthquake</td>\n",
       "      <td>manual</td>\n",
       "      <td>SED</td>\n",
       "    </tr>\n",
       "    <tr>\n",
       "      <th>6</th>\n",
       "      <td>6</td>\n",
       "      <td>2025</td>\n",
       "      <td>Feb 10 02:12:57</td>\n",
       "      <td>Feb 10 01:12:57</td>\n",
       "      <td>0.6</td>\n",
       "      <td>Aosta I</td>\n",
       "      <td>8.9</td>\n",
       "      <td>45.80</td>\n",
       "      <td>7.43</td>\n",
       "      <td>earthquake</td>\n",
       "      <td>manual</td>\n",
       "      <td>SED</td>\n",
       "    </tr>\n",
       "    <tr>\n",
       "      <th>7</th>\n",
       "      <td>7</td>\n",
       "      <td>2025</td>\n",
       "      <td>Feb 10 02:07:45</td>\n",
       "      <td>Feb 10 01:07:45</td>\n",
       "      <td>1.9</td>\n",
       "      <td>Aosta I</td>\n",
       "      <td>9.2</td>\n",
       "      <td>45.80</td>\n",
       "      <td>7.44</td>\n",
       "      <td>earthquake</td>\n",
       "      <td>manual</td>\n",
       "      <td>SED</td>\n",
       "    </tr>\n",
       "    <tr>\n",
       "      <th>8</th>\n",
       "      <td>8</td>\n",
       "      <td>2025</td>\n",
       "      <td>Feb 10 02:07:20</td>\n",
       "      <td>Feb 10 01:07:20</td>\n",
       "      <td>1.9</td>\n",
       "      <td>Aosta I</td>\n",
       "      <td>8.0</td>\n",
       "      <td>45.80</td>\n",
       "      <td>7.44</td>\n",
       "      <td>earthquake</td>\n",
       "      <td>manual</td>\n",
       "      <td>SED</td>\n",
       "    </tr>\n",
       "    <tr>\n",
       "      <th>9</th>\n",
       "      <td>9</td>\n",
       "      <td>2025</td>\n",
       "      <td>Feb 09 20:54:11</td>\n",
       "      <td>Feb 09 19:54:11</td>\n",
       "      <td>0.2</td>\n",
       "      <td>Bourg-Saint-Pierre VS</td>\n",
       "      <td>4.4</td>\n",
       "      <td>45.93</td>\n",
       "      <td>7.04</td>\n",
       "      <td>earthquake</td>\n",
       "      <td>manual</td>\n",
       "      <td>SED</td>\n",
       "    </tr>\n",
       "  </tbody>\n",
       "</table>\n",
       "</div>"
      ],
      "text/plain": [
       "   Unnamed: 0  Year       Local_Time         UTC_Time  Magnitude  \\\n",
       "0           0  2025  Feb 11 01:04:40  Feb 11 00:04:40        1.1   \n",
       "1           1  2025  Feb 10 22:50:01  Feb 10 21:50:01        0.7   \n",
       "2           2  2025  Feb 10 18:03:43  Feb 10 17:03:43        0.5   \n",
       "3           3  2025  Feb 10 14:35:00  Feb 10 13:35:00        0.7   \n",
       "4           4  2025  Feb 10 07:59:28  Feb 10 06:59:28        1.6   \n",
       "5           5  2025  Feb 10 07:29:21  Feb 10 06:29:21        1.1   \n",
       "6           6  2025  Feb 10 02:12:57  Feb 10 01:12:57        0.6   \n",
       "7           7  2025  Feb 10 02:07:45  Feb 10 01:07:45        1.9   \n",
       "8           8  2025  Feb 10 02:07:20  Feb 10 01:07:20        1.9   \n",
       "9           9  2025  Feb 09 20:54:11  Feb 09 19:54:11        0.2   \n",
       "\n",
       "                Location  Depth  Latitude  Longitude  Event_type Assessment  \\\n",
       "0               Zinal VS    6.7     46.15       7.71         NaN  automatic   \n",
       "1           Leukerbad VS    6.1     46.37       7.57  earthquake     manual   \n",
       "2             Chamonix F    5.9     45.90       7.01  earthquake     manual   \n",
       "3        Sanetschpass VS    3.1     46.32       7.34  earthquake     manual   \n",
       "4  Bourg-Saint-Pierre VS    5.4     45.93       7.04  earthquake     manual   \n",
       "5                Aosta I   10.3     45.80       7.44  earthquake     manual   \n",
       "6                Aosta I    8.9     45.80       7.43  earthquake     manual   \n",
       "7                Aosta I    9.2     45.80       7.44  earthquake     manual   \n",
       "8                Aosta I    8.0     45.80       7.44  earthquake     manual   \n",
       "9  Bourg-Saint-Pierre VS    4.4     45.93       7.04  earthquake     manual   \n",
       "\n",
       "  Agency  \n",
       "0    SED  \n",
       "1    SED  \n",
       "2    SED  \n",
       "3    SED  \n",
       "4    SED  \n",
       "5    SED  \n",
       "6    SED  \n",
       "7    SED  \n",
       "8    SED  \n",
       "9    SED  "
      ]
     },
     "execution_count": 163,
     "metadata": {},
     "output_type": "execute_result"
    }
   ],
   "source": [
    "df = read_s3_object(\"earthquakedb\", \"data_etl.csv\")\n",
    "df.head(10)"
   ]
  },
  {
   "cell_type": "code",
   "execution_count": 164,
   "metadata": {},
   "outputs": [
    {
     "name": "stdout",
     "output_type": "stream",
     "text": [
      "<class 'pandas.core.frame.DataFrame'>\n",
      "RangeIndex: 8746 entries, 0 to 8745\n",
      "Data columns (total 12 columns):\n",
      " #   Column      Non-Null Count  Dtype  \n",
      "---  ------      --------------  -----  \n",
      " 0   Unnamed: 0  8746 non-null   int64  \n",
      " 1   Year        8746 non-null   int64  \n",
      " 2   Local_Time  8746 non-null   object \n",
      " 3   UTC_Time    8746 non-null   object \n",
      " 4   Magnitude   8746 non-null   float64\n",
      " 5   Location    8746 non-null   object \n",
      " 6   Depth       8746 non-null   float64\n",
      " 7   Latitude    8746 non-null   float64\n",
      " 8   Longitude   8746 non-null   float64\n",
      " 9   Event_type  8745 non-null   object \n",
      " 10  Assessment  8746 non-null   object \n",
      " 11  Agency      8746 non-null   object \n",
      "dtypes: float64(4), int64(2), object(6)\n",
      "memory usage: 820.1+ KB\n"
     ]
    }
   ],
   "source": [
    "df.info()"
   ]
  },
  {
   "cell_type": "markdown",
   "metadata": {},
   "source": [
    "#### Assign Canton name"
   ]
  },
  {
   "cell_type": "code",
   "execution_count": 165,
   "metadata": {},
   "outputs": [
    {
     "data": {
      "text/html": [
       "<div>\n",
       "<style scoped>\n",
       "    .dataframe tbody tr th:only-of-type {\n",
       "        vertical-align: middle;\n",
       "    }\n",
       "\n",
       "    .dataframe tbody tr th {\n",
       "        vertical-align: top;\n",
       "    }\n",
       "\n",
       "    .dataframe thead th {\n",
       "        text-align: right;\n",
       "    }\n",
       "</style>\n",
       "<table border=\"1\" class=\"dataframe\">\n",
       "  <thead>\n",
       "    <tr style=\"text-align: right;\">\n",
       "      <th></th>\n",
       "      <th>Unnamed: 0</th>\n",
       "      <th>Year</th>\n",
       "      <th>Local_Time</th>\n",
       "      <th>Magnitude</th>\n",
       "      <th>Location</th>\n",
       "      <th>Latitude</th>\n",
       "      <th>Longitude</th>\n",
       "      <th>NAME</th>\n",
       "    </tr>\n",
       "  </thead>\n",
       "  <tbody>\n",
       "    <tr>\n",
       "      <th>0</th>\n",
       "      <td>0</td>\n",
       "      <td>2025</td>\n",
       "      <td>Feb 11 01:04:40</td>\n",
       "      <td>1.1</td>\n",
       "      <td>Zinal VS</td>\n",
       "      <td>46.15</td>\n",
       "      <td>7.71</td>\n",
       "      <td>Valais</td>\n",
       "    </tr>\n",
       "    <tr>\n",
       "      <th>1</th>\n",
       "      <td>1</td>\n",
       "      <td>2025</td>\n",
       "      <td>Feb 10 22:50:01</td>\n",
       "      <td>0.7</td>\n",
       "      <td>Leukerbad VS</td>\n",
       "      <td>46.37</td>\n",
       "      <td>7.57</td>\n",
       "      <td>Valais</td>\n",
       "    </tr>\n",
       "    <tr>\n",
       "      <th>3</th>\n",
       "      <td>3</td>\n",
       "      <td>2025</td>\n",
       "      <td>Feb 10 14:35:00</td>\n",
       "      <td>0.7</td>\n",
       "      <td>Sanetschpass VS</td>\n",
       "      <td>46.32</td>\n",
       "      <td>7.34</td>\n",
       "      <td>Valais</td>\n",
       "    </tr>\n",
       "    <tr>\n",
       "      <th>15</th>\n",
       "      <td>15</td>\n",
       "      <td>2025</td>\n",
       "      <td>Feb 08 00:05:51</td>\n",
       "      <td>0.6</td>\n",
       "      <td>Bourg-Saint-Pierre VS</td>\n",
       "      <td>45.93</td>\n",
       "      <td>7.05</td>\n",
       "      <td>Valais</td>\n",
       "    </tr>\n",
       "    <tr>\n",
       "      <th>17</th>\n",
       "      <td>17</td>\n",
       "      <td>2025</td>\n",
       "      <td>Feb 08 20:58:09</td>\n",
       "      <td>2.0</td>\n",
       "      <td>Bourg-Saint-Pierre VS</td>\n",
       "      <td>45.93</td>\n",
       "      <td>7.05</td>\n",
       "      <td>Valais</td>\n",
       "    </tr>\n",
       "    <tr>\n",
       "      <th>22</th>\n",
       "      <td>22</td>\n",
       "      <td>2025</td>\n",
       "      <td>Feb 08 08:53:07</td>\n",
       "      <td>2.3</td>\n",
       "      <td>Bourg-Saint-Pierre VS</td>\n",
       "      <td>45.93</td>\n",
       "      <td>7.05</td>\n",
       "      <td>Valais</td>\n",
       "    </tr>\n",
       "    <tr>\n",
       "      <th>24</th>\n",
       "      <td>24</td>\n",
       "      <td>2025</td>\n",
       "      <td>Feb 08 05:51:33</td>\n",
       "      <td>1.3</td>\n",
       "      <td>Bourg-Saint-Pierre VS</td>\n",
       "      <td>45.94</td>\n",
       "      <td>7.05</td>\n",
       "      <td>Valais</td>\n",
       "    </tr>\n",
       "    <tr>\n",
       "      <th>25</th>\n",
       "      <td>25</td>\n",
       "      <td>2025</td>\n",
       "      <td>Feb 08 05:18:55</td>\n",
       "      <td>0.6</td>\n",
       "      <td>Bourg-Saint-Pierre VS</td>\n",
       "      <td>45.93</td>\n",
       "      <td>7.05</td>\n",
       "      <td>Valais</td>\n",
       "    </tr>\n",
       "    <tr>\n",
       "      <th>26</th>\n",
       "      <td>26</td>\n",
       "      <td>2025</td>\n",
       "      <td>Feb 08 03:55:23</td>\n",
       "      <td>1.8</td>\n",
       "      <td>Bourg-Saint-Pierre VS</td>\n",
       "      <td>45.94</td>\n",
       "      <td>7.05</td>\n",
       "      <td>Valais</td>\n",
       "    </tr>\n",
       "    <tr>\n",
       "      <th>31</th>\n",
       "      <td>31</td>\n",
       "      <td>2025</td>\n",
       "      <td>Feb 08 01:46:32</td>\n",
       "      <td>0.8</td>\n",
       "      <td>Bourg-Saint-Pierre VS</td>\n",
       "      <td>45.93</td>\n",
       "      <td>7.05</td>\n",
       "      <td>Valais</td>\n",
       "    </tr>\n",
       "  </tbody>\n",
       "</table>\n",
       "</div>"
      ],
      "text/plain": [
       "    Unnamed: 0  Year       Local_Time  Magnitude               Location  \\\n",
       "0            0  2025  Feb 11 01:04:40        1.1               Zinal VS   \n",
       "1            1  2025  Feb 10 22:50:01        0.7           Leukerbad VS   \n",
       "3            3  2025  Feb 10 14:35:00        0.7        Sanetschpass VS   \n",
       "15          15  2025  Feb 08 00:05:51        0.6  Bourg-Saint-Pierre VS   \n",
       "17          17  2025  Feb 08 20:58:09        2.0  Bourg-Saint-Pierre VS   \n",
       "22          22  2025  Feb 08 08:53:07        2.3  Bourg-Saint-Pierre VS   \n",
       "24          24  2025  Feb 08 05:51:33        1.3  Bourg-Saint-Pierre VS   \n",
       "25          25  2025  Feb 08 05:18:55        0.6  Bourg-Saint-Pierre VS   \n",
       "26          26  2025  Feb 08 03:55:23        1.8  Bourg-Saint-Pierre VS   \n",
       "31          31  2025  Feb 08 01:46:32        0.8  Bourg-Saint-Pierre VS   \n",
       "\n",
       "    Latitude  Longitude    NAME  \n",
       "0      46.15       7.71  Valais  \n",
       "1      46.37       7.57  Valais  \n",
       "3      46.32       7.34  Valais  \n",
       "15     45.93       7.05  Valais  \n",
       "17     45.93       7.05  Valais  \n",
       "22     45.93       7.05  Valais  \n",
       "24     45.94       7.05  Valais  \n",
       "25     45.93       7.05  Valais  \n",
       "26     45.94       7.05  Valais  \n",
       "31     45.93       7.05  Valais  "
      ]
     },
     "execution_count": 165,
     "metadata": {},
     "output_type": "execute_result"
    }
   ],
   "source": [
    "import geopandas as gpd\n",
    "from shapely.geometry import Point\n",
    "from langchain.tools import Tool, StructuredTool\n",
    "from langchain.agents import initialize_agent, AgentType\n",
    "from pydantic import BaseModel\n",
    "\n",
    "# Load the Swiss cantons Shapefile\n",
    "# Ensure you provide the correct path to your Shapefile\n",
    "shapefile_path = \"shp/swissBOUNDARIES3D_1_5_TLM_KANTONSGEBIET.shp\"\n",
    "\n",
    "regions_gdf = gpd.read_file(shapefile_path)\n",
    "if regions_gdf.crs is None:\n",
    "        regions_gdf.set_crs(\"EPSG:4326\", inplace=True)  # Assuming WGS84\n",
    "\n",
    "# Convert points list to a GeoDataFrame\n",
    "geometry = [Point(lon, lat) for lon, lat in zip(df[\"Longitude\"], df[\"Latitude\"])]\n",
    "points_gdf = gpd.GeoDataFrame(\n",
    "        df,geometry=geometry,  # Create Point geometry\n",
    "        crs=\"EPSG:4326\"  # Set coordinate reference system\n",
    ")\n",
    "if regions_gdf.crs != points_gdf.crs:\n",
    "        regions_gdf = regions_gdf.to_crs(points_gdf.crs)\n",
    "joined = gpd.sjoin(points_gdf, regions_gdf, how=\"left\", predicate=\"within\")\n",
    "joined = joined[joined[\"OBJEKTART\"]==\"Kanton\"]\n",
    "data = joined[[\"Unnamed: 0\", \"Year\", \"Local_Time\", \"Magnitude\", \"Location\", \"Latitude\", \"Longitude\", \"NAME\"]]\n",
    "data.head(10)"
   ]
  },
  {
   "cell_type": "markdown",
   "metadata": {},
   "source": [
    "##### Load S3 data into postgres table"
   ]
  },
  {
   "cell_type": "markdown",
   "metadata": {},
   "source": [
    "#### Create database"
   ]
  },
  {
   "cell_type": "code",
   "execution_count": 166,
   "metadata": {},
   "outputs": [],
   "source": [
    "import pandas as pd\n",
    "from sqlalchemy import create_engine\n",
    "import psycopg2\n",
    "\n",
    "# PostgreSQL credentials\n",
    "db_host = \"localhost\"\n",
    "db_user = \"postgres\"\n",
    "db_pass = \"postgres\"\n",
    "db_port = \"5432\"  # Default PostgreSQL port\n",
    "db_name = \"llm_sql\""
   ]
  },
  {
   "cell_type": "code",
   "execution_count": 167,
   "metadata": {},
   "outputs": [
    {
     "name": "stdout",
     "output_type": "stream",
     "text": [
      "Database 'llm_sql' already exists.\n"
     ]
    }
   ],
   "source": [
    "# Create database\n",
    "try:\n",
    "    conn = psycopg2.connect(\n",
    "        dbname=\"postgres\", user=db_user, password=db_pass, host=db_host, port=db_port\n",
    "    )\n",
    "    conn.autocommit = True\n",
    "    cursor = conn.cursor()\n",
    "    cursor.execute(f\"CREATE DATABASE {db_name};\")\n",
    "    cursor.close()\n",
    "    conn.close()\n",
    "    print(f\"Database '{db_name}' created successfully.\")\n",
    "except psycopg2.errors.DuplicateDatabase:\n",
    "    print(f\"Database '{db_name}' already exists.\")\n",
    "except Exception as e:\n",
    "    print(f\"Error creating database: {e}\")\n"
   ]
  },
  {
   "cell_type": "markdown",
   "metadata": {},
   "source": [
    "##### Create table and push data"
   ]
  },
  {
   "cell_type": "code",
   "execution_count": 168,
   "metadata": {},
   "outputs": [],
   "source": [
    "from sqlalchemy import create_engine, Column, Integer, String, Float, MetaData, Table, DateTime\n",
    "from sqlalchemy.exc import SQLAlchemyError\n",
    "\n",
    "# Create a PostgreSQL engine\n",
    "engine = create_engine(f'postgresql://{db_user}:{db_pass}@{db_host}:{db_port}/{db_name}')"
   ]
  },
  {
   "cell_type": "code",
   "execution_count": 170,
   "metadata": {},
   "outputs": [
    {
     "name": "stdout",
     "output_type": "stream",
     "text": [
      "Table 'earthquakes' does not exist.\n"
     ]
    }
   ],
   "source": [
    "from sqlalchemy.exc import NoSuchTableError\n",
    "\n",
    "metadata_obj = MetaData()\n",
    "table_name = \"earthquakes\"\n",
    "\n",
    "try:\n",
    "    table = Table(table_name, metadata_obj, autoload_with=engine)\n",
    "    table.drop(engine)\n",
    "    print(f\"Table '{table_name}' deleted successfully.\")\n",
    "except NoSuchTableError:\n",
    "    print(f\"Table '{table_name}' does not exist.\")"
   ]
  },
  {
   "cell_type": "code",
   "execution_count": 171,
   "metadata": {},
   "outputs": [
    {
     "name": "stdout",
     "output_type": "stream",
     "text": [
      "Table created (if not exists).\n",
      "Data successfully pushed to PostgreSQL!\n"
     ]
    }
   ],
   "source": [
    "\n",
    "# Sample DataFrame\n",
    "# data = read_s3_object(\"earthquakedb\", \"data_etl.csv\")\n",
    "data = data.rename(columns={\"Unnamed: 0\":   \"Index\",\n",
    "                            \"Location\":     \"location\",\n",
    "                            \"Magnitude\":    \"magnitude\",\n",
    "                            \"Latitude\":     \"latitude\",\n",
    "                            \"Longitude\":    \"longitude\",\n",
    "                            \"NAME\":         \"canton\"})\n",
    "data = data[[\"Index\", \"Year\", \"Local_Time\", \"magnitude\", \"location\", \"latitude\", \"longitude\", \"canton\"]]\n",
    "data = data[(data[\"magnitude\"]>=2) & (data[\"Year\"]>=2018)]\n",
    "\n",
    "data[\"local_Time\"] = pd.to_datetime(data[\"Year\"].astype(str) + \" \" + data[\"Local_Time\"],\n",
    "                                    format=\"%Y %b %d %H:%M:%S\")\n",
    "data.drop(columns=[\"Year\", \"Local_Time\"], inplace=True)\n",
    "\n",
    "# Define your table schema\n",
    "earthquake_table = Table(\n",
    "    \"earthquakes\", metadata_obj,\n",
    "    Column(\"Index\", Integer, primary_key=True, autoincrement=True),\n",
    "    Column(\"local_time\", DateTime),\n",
    "    Column(\"magnitude\", Float),\n",
    "    Column(\"location\", String(255)),\n",
    "    Column(\"latitude\", Float),\n",
    "    Column(\"longitude\", Float),\n",
    "    Column(\"canton\", String(255))\n",
    ")\n",
    "\n",
    "# Create the table if it does not exist\n",
    "try:\n",
    "    metadata_obj.create_all(engine)\n",
    "    print(\"Table created (if not exists).\")\n",
    "except SQLAlchemyError as e:\n",
    "    print(f\"Error creating table: {e}\")\n",
    "\n",
    "# Push the DataFrame into PostgreSQL (replace table if it exists)\n",
    "data.to_sql('earthquakes', engine, if_exists='replace', index=False)\n",
    "\n",
    "print(\"Data successfully pushed to PostgreSQL!\")"
   ]
  },
  {
   "cell_type": "markdown",
   "metadata": {},
   "source": [
    "##### Test\n",
    "To test, I am retrieving first 10 records."
   ]
  },
  {
   "cell_type": "code",
   "execution_count": 172,
   "metadata": {},
   "outputs": [
    {
     "data": {
      "text/html": [
       "<div>\n",
       "<style scoped>\n",
       "    .dataframe tbody tr th:only-of-type {\n",
       "        vertical-align: middle;\n",
       "    }\n",
       "\n",
       "    .dataframe tbody tr th {\n",
       "        vertical-align: top;\n",
       "    }\n",
       "\n",
       "    .dataframe thead th {\n",
       "        text-align: right;\n",
       "    }\n",
       "</style>\n",
       "<table border=\"1\" class=\"dataframe\">\n",
       "  <thead>\n",
       "    <tr style=\"text-align: right;\">\n",
       "      <th></th>\n",
       "      <th>Index</th>\n",
       "      <th>magnitude</th>\n",
       "      <th>location</th>\n",
       "      <th>latitude</th>\n",
       "      <th>longitude</th>\n",
       "      <th>canton</th>\n",
       "      <th>local_Time</th>\n",
       "    </tr>\n",
       "  </thead>\n",
       "  <tbody>\n",
       "    <tr>\n",
       "      <th>0</th>\n",
       "      <td>17</td>\n",
       "      <td>2.0</td>\n",
       "      <td>Bourg-Saint-Pierre VS</td>\n",
       "      <td>45.93</td>\n",
       "      <td>7.05</td>\n",
       "      <td>Valais</td>\n",
       "      <td>2025-02-08 20:58:09</td>\n",
       "    </tr>\n",
       "    <tr>\n",
       "      <th>1</th>\n",
       "      <td>22</td>\n",
       "      <td>2.3</td>\n",
       "      <td>Bourg-Saint-Pierre VS</td>\n",
       "      <td>45.93</td>\n",
       "      <td>7.05</td>\n",
       "      <td>Valais</td>\n",
       "      <td>2025-02-08 08:53:07</td>\n",
       "    </tr>\n",
       "    <tr>\n",
       "      <th>2</th>\n",
       "      <td>171</td>\n",
       "      <td>2.3</td>\n",
       "      <td>Lausanne VD</td>\n",
       "      <td>46.51</td>\n",
       "      <td>6.74</td>\n",
       "      <td>Vaud</td>\n",
       "      <td>2025-01-15 05:11:13</td>\n",
       "    </tr>\n",
       "    <tr>\n",
       "      <th>3</th>\n",
       "      <td>243</td>\n",
       "      <td>2.1</td>\n",
       "      <td>Samnaun GR</td>\n",
       "      <td>46.90</td>\n",
       "      <td>10.31</td>\n",
       "      <td>Graubünden</td>\n",
       "      <td>2025-01-06 15:23:19</td>\n",
       "    </tr>\n",
       "    <tr>\n",
       "      <th>4</th>\n",
       "      <td>245</td>\n",
       "      <td>2.3</td>\n",
       "      <td>Cevio TI</td>\n",
       "      <td>46.34</td>\n",
       "      <td>8.55</td>\n",
       "      <td>Ticino</td>\n",
       "      <td>2025-01-06 09:56:49</td>\n",
       "    </tr>\n",
       "    <tr>\n",
       "      <th>5</th>\n",
       "      <td>249</td>\n",
       "      <td>2.2</td>\n",
       "      <td>Kreuzlingen TG</td>\n",
       "      <td>47.63</td>\n",
       "      <td>9.21</td>\n",
       "      <td>Thurgau</td>\n",
       "      <td>2025-01-05 16:54:55</td>\n",
       "    </tr>\n",
       "    <tr>\n",
       "      <th>6</th>\n",
       "      <td>254</td>\n",
       "      <td>2.0</td>\n",
       "      <td>Savognin GR</td>\n",
       "      <td>46.59</td>\n",
       "      <td>9.57</td>\n",
       "      <td>Graubünden</td>\n",
       "      <td>2025-01-03 15:29:42</td>\n",
       "    </tr>\n",
       "    <tr>\n",
       "      <th>7</th>\n",
       "      <td>270</td>\n",
       "      <td>2.2</td>\n",
       "      <td>Boncourt JU</td>\n",
       "      <td>47.48</td>\n",
       "      <td>7.01</td>\n",
       "      <td>Jura</td>\n",
       "      <td>2024-12-31 07:33:28</td>\n",
       "    </tr>\n",
       "    <tr>\n",
       "      <th>8</th>\n",
       "      <td>350</td>\n",
       "      <td>2.4</td>\n",
       "      <td>Weinfelden TG</td>\n",
       "      <td>47.60</td>\n",
       "      <td>9.08</td>\n",
       "      <td>Thurgau</td>\n",
       "      <td>2024-12-20 16:17:11</td>\n",
       "    </tr>\n",
       "    <tr>\n",
       "      <th>9</th>\n",
       "      <td>396</td>\n",
       "      <td>2.3</td>\n",
       "      <td>Sanetschpass VS</td>\n",
       "      <td>46.33</td>\n",
       "      <td>7.39</td>\n",
       "      <td>Valais</td>\n",
       "      <td>2024-12-13 08:24:30</td>\n",
       "    </tr>\n",
       "  </tbody>\n",
       "</table>\n",
       "</div>"
      ],
      "text/plain": [
       "   Index  magnitude               location  latitude  longitude      canton  \\\n",
       "0     17        2.0  Bourg-Saint-Pierre VS     45.93       7.05      Valais   \n",
       "1     22        2.3  Bourg-Saint-Pierre VS     45.93       7.05      Valais   \n",
       "2    171        2.3            Lausanne VD     46.51       6.74        Vaud   \n",
       "3    243        2.1             Samnaun GR     46.90      10.31  Graubünden   \n",
       "4    245        2.3               Cevio TI     46.34       8.55      Ticino   \n",
       "5    249        2.2         Kreuzlingen TG     47.63       9.21     Thurgau   \n",
       "6    254        2.0            Savognin GR     46.59       9.57  Graubünden   \n",
       "7    270        2.2            Boncourt JU     47.48       7.01        Jura   \n",
       "8    350        2.4          Weinfelden TG     47.60       9.08     Thurgau   \n",
       "9    396        2.3        Sanetschpass VS     46.33       7.39      Valais   \n",
       "\n",
       "           local_Time  \n",
       "0 2025-02-08 20:58:09  \n",
       "1 2025-02-08 08:53:07  \n",
       "2 2025-01-15 05:11:13  \n",
       "3 2025-01-06 15:23:19  \n",
       "4 2025-01-06 09:56:49  \n",
       "5 2025-01-05 16:54:55  \n",
       "6 2025-01-03 15:29:42  \n",
       "7 2024-12-31 07:33:28  \n",
       "8 2024-12-20 16:17:11  \n",
       "9 2024-12-13 08:24:30  "
      ]
     },
     "execution_count": 172,
     "metadata": {},
     "output_type": "execute_result"
    }
   ],
   "source": [
    "query = \"SELECT * FROM earthquakes LIMIT 10;\"\n",
    "pd.read_sql(query, engine)"
   ]
  },
  {
   "cell_type": "markdown",
   "metadata": {},
   "source": [
    "### SQL Agent"
   ]
  },
  {
   "cell_type": "code",
   "execution_count": 173,
   "metadata": {},
   "outputs": [],
   "source": [
    "from langchain_community.agent_toolkits import SQLDatabaseToolkit\n",
    "from langchain_community.utilities import SQLDatabase\n",
    "from langchain.agents import create_sql_agent, AgentExecutor\n",
    "from langchain.agents.agent_types import AgentType\n",
    "\n",
    "db = SQLDatabase.from_uri(f'postgresql://{db_user}:{db_pass}@{db_host}:{db_port}/{db_name}')\n",
    "\n",
    "# Create a SQLDatabase Toolkit (this contains the necessary tools)\n",
    "toolkit = SQLDatabaseToolkit(db=db, llm=chat)\n"
   ]
  },
  {
   "cell_type": "code",
   "execution_count": 174,
   "metadata": {},
   "outputs": [
    {
     "name": "stdout",
     "output_type": "stream",
     "text": [
      "['sql_db_query', 'sql_db_schema', 'sql_db_list_tables', 'sql_db_query_checker']\n"
     ]
    }
   ],
   "source": [
    "tools = toolkit.get_tools()\n",
    "print([tool.name for tool in tools])"
   ]
  },
  {
   "cell_type": "code",
   "execution_count": 175,
   "metadata": {},
   "outputs": [],
   "source": [
    "# Define prompt\n",
    "# prompt = ChatPromptTemplate.from_template(\"{input}\")\n",
    "prompt = ChatPromptTemplate.from_template(\n",
    "    \"{input}\\n\\nPrevious Actions:\\n{agent_scratchpad}\"\n",
    ")\n",
    "\n",
    "# Create LangChain SQL agent\n",
    "sql_agent = create_openai_tools_agent(\n",
    "    llm=chat,\n",
    "    tools=tools,\n",
    "    prompt=prompt,\n",
    ")\n",
    "\n",
    "# Create agent executor\n",
    "agent_executor = AgentExecutor(agent=sql_agent,\n",
    "                               tools=tools,\n",
    "                               verbose=False)"
   ]
  },
  {
   "cell_type": "markdown",
   "metadata": {},
   "source": [
    "### Simple questions"
   ]
  },
  {
   "cell_type": "markdown",
   "metadata": {},
   "source": [
    "- 10 first records"
   ]
  },
  {
   "cell_type": "code",
   "execution_count": 176,
   "metadata": {},
   "outputs": [
    {
     "name": "stdout",
     "output_type": "stream",
     "text": [
      "Here are the first 10 records from the earthquakes table:\n",
      "\n",
      "1. **ID:** 17, **Magnitude:** 2.0, **Location:** Bourg-Saint-Pierre VS, **Latitude:** 45.93, **Longitude:** 7.05, **Region:** Valais, **Date:** 2025-02-08 20:58:09\n",
      "2. **ID:** 22, **Magnitude:** 2.3, **Location:** Bourg-Saint-Pierre VS, **Latitude:** 45.93, **Longitude:** 7.05, **Region:** Valais, **Date:** 2025-02-08 08:53:07\n",
      "3. **ID:** 171, **Magnitude:** 2.3, **Location:** Lausanne VD, **Latitude:** 46.51, **Longitude:** 6.74, **Region:** Vaud, **Date:** 2025-01-15 05:11:13\n",
      "4. **ID:** 243, **Magnitude:** 2.1, **Location:** Samnaun GR, **Latitude:** 46.90, **Longitude:** 10.31, **Region:** Graubünden, **Date:** 2025-01-06 15:23:19\n",
      "5. **ID:** 245, **Magnitude:** 2.3, **Location:** Cevio TI, **Latitude:** 46.34, **Longitude:** 8.55, **Region:** Ticino, **Date:** 2025-01-06 09:56:49\n",
      "6. **ID:** 249, **Magnitude:** 2.2, **Location:** Kreuzlingen TG, **Latitude:** 47.63, **Longitude:** 9.21, **Region:** Thurgau, **Date:** 2025-01-05 16:54:55\n",
      "7. **ID:** 254, **Magnitude:** 2.0, **Location:** Savognin GR, **Latitude:** 46.59, **Longitude:** 9.57, **Region:** Graubünden, **Date:** 2025-01-03 15:29:42\n",
      "8. **ID:** 270, **Magnitude:** 2.2, **Location:** Boncourt JU, **Latitude:** 47.48, **Longitude:** 7.01, **Region:** Jura, **Date:** 2024-12-31 07:33:28\n",
      "9. **ID:** 350, **Magnitude:** 2.4, **Location:** Weinfelden TG, **Latitude:** 47.60, **Longitude:** 9.08, **Region:** Thurgau, **Date:** 2024-12-20 16:17:11\n",
      "10. **ID:** 396, **Magnitude:** 2.3, **Location:** Sanetschpass VS, **Latitude:** 46.33, **Longitude:** 7.39, **Region:** Valais, **Date:** 2024-12-13 08:24:30\n"
     ]
    }
   ],
   "source": [
    "response1 = agent_executor.invoke({\"input\": \"Display the first 10 records from the earthquakes table.\"})\n",
    "print(response1['output'])"
   ]
  },
  {
   "cell_type": "markdown",
   "metadata": {},
   "source": [
    "- strongest earthquake recorded"
   ]
  },
  {
   "cell_type": "code",
   "execution_count": 177,
   "metadata": {},
   "outputs": [
    {
     "name": "stdout",
     "output_type": "stream",
     "text": [
      "The record of the earthquake with the highest magnitude is as follows:\n",
      "\n",
      "- **ID**: 909\n",
      "- **Magnitude**: 4.4\n",
      "- **Location**: Pragelpass GL/SZ\n",
      "- **Latitude**: 47.05\n",
      "- **Longitude**: 8.86\n",
      "- **Region**: Schwyz\n",
      "- **Date and Time**: June 4, 2024, 02:34:32\n",
      "\n",
      "If you need any more information or further assistance, feel free to ask!\n"
     ]
    }
   ],
   "source": [
    "response2 = agent_executor.invoke({\"input\": \"Retrieve the record of the earthquake of the most magnitude\"})\n",
    "print(response2['output'])"
   ]
  },
  {
   "cell_type": "markdown",
   "metadata": {},
   "source": [
    "- Oldest record"
   ]
  },
  {
   "cell_type": "code",
   "execution_count": 178,
   "metadata": {},
   "outputs": [
    {
     "name": "stdout",
     "output_type": "stream",
     "text": [
      "The oldest record in the `earthquakes` table is from July 2, 2019, at 01:13:57.\n"
     ]
    }
   ],
   "source": [
    "response4 = agent_executor.invoke({\"input\": \"when was the oldest record in earthquake table.\"})\n",
    "print(response4['output'])"
   ]
  },
  {
   "cell_type": "markdown",
   "metadata": {},
   "source": [
    "- Region with most earthquakes"
   ]
  },
  {
   "cell_type": "code",
   "execution_count": 179,
   "metadata": {},
   "outputs": [
    {
     "name": "stdout",
     "output_type": "stream",
     "text": [
      "The location in Switzerland that experiences the most earthquakes is Elm GL, with a total of 42 recorded earthquakes.\n"
     ]
    }
   ],
   "source": [
    "response5 = agent_executor.invoke({\"input\": \"In which swiss Location occurs the most earthquakes.\"})\n",
    "print(response5['output'])"
   ]
  },
  {
   "cell_type": "code",
   "execution_count": 180,
   "metadata": {},
   "outputs": [
    {
     "name": "stdout",
     "output_type": "stream",
     "text": [
      "The Swiss canton that experiences the most earthquakes is Valais, with a total of 109 recorded earthquakes.\n"
     ]
    }
   ],
   "source": [
    "response6 = agent_executor.invoke({\"input\": \"In which swiss canton occurs the most earthquakes\"})\n",
    "print(response6['output'])"
   ]
  },
  {
   "cell_type": "code",
   "execution_count": 181,
   "metadata": {},
   "outputs": [
    {
     "name": "stdout",
     "output_type": "stream",
     "text": [
      "The top 5 Swiss cantons with the most earthquakes are:\n",
      "\n",
      "1. **Valais** - 109 earthquakes\n",
      "2. **Graubünden** - 44 earthquakes\n",
      "3. **Glarus** - 43 earthquakes\n",
      "4. **Jura** - 32 earthquakes\n",
      "5. **Bern** - 16 earthquakes\n"
     ]
    }
   ],
   "source": [
    "response7 = agent_executor.invoke({\"input\": \"Give me top 5 swiss cantons with the most earthquakes\"})\n",
    "print(response7['output'])"
   ]
  },
  {
   "cell_type": "markdown",
   "metadata": {},
   "source": [
    "Add new tool"
   ]
  },
  {
   "cell_type": "code",
   "execution_count": 187,
   "metadata": {},
   "outputs": [],
   "source": [
    "import matplotlib\n",
    "from langchain_experimental.utilities import PythonREPL\n",
    "\n",
    "python_repl = PythonREPL()\n",
    "repl_tool = Tool(\n",
    "    name=\"python_repl\",\n",
    "    description=\"Executes python code and returns the result. The code runs in a static sandbox without interactive mode, so print output or save output to a file.\",\n",
    "    func=python_repl.run,\n",
    ")\n",
    "repl_tool.name = \"python_interpreter\""
   ]
  },
  {
   "cell_type": "code",
   "execution_count": 188,
   "metadata": {},
   "outputs": [
    {
     "name": "stdout",
     "output_type": "stream",
     "text": [
      "['sql_db_query', 'sql_db_schema', 'sql_db_list_tables', 'sql_db_query_checker', 'python_interpreter']\n"
     ]
    }
   ],
   "source": [
    "tools = toolkit.get_tools()\n",
    "tools.append(repl_tool)\n",
    "print([tool.name for tool in tools])"
   ]
  },
  {
   "cell_type": "code",
   "execution_count": 184,
   "metadata": {},
   "outputs": [
    {
     "name": "stdout",
     "output_type": "stream",
     "text": [
      "['sql_db_query', 'sql_db_schema', 'sql_db_list_tables', 'sql_db_query_checker', 'geo_plotter']\n"
     ]
    }
   ],
   "source": [
    "import matplotlib.pyplot as plt\n",
    "import geopandas as gpd\n",
    "from langchain_experimental.utilities import PythonREPL\n",
    "from langchain.tools import Tool\n",
    "\n",
    "def plot_geodata():\n",
    "    \"\"\"\n",
    "    Executes Python code to generate a geoplot.\n",
    "    The function assumes a predefined GeoDataFrame `gdf` is available.\n",
    "    \"\"\"\n",
    "    try:\n",
    "        # Load a sample dataset if gdf is not provided\n",
    "        world = gpd.read_file(gpd.datasets.get_path('naturalearth_lowres'))\n",
    "\n",
    "        # Create the plot\n",
    "        fig, ax = plt.subplots(figsize=(10, 6))\n",
    "        world.plot(ax=ax, color='lightgrey', edgecolor='black')\n",
    "\n",
    "        # Save the plot\n",
    "        plot_path = \"geoplot.png\"\n",
    "        plt.savefig(plot_path)\n",
    "        plt.close()\n",
    "\n",
    "        return f\"GeoPlot saved as {plot_path}\"\n",
    "\n",
    "    except Exception as e:\n",
    "        return f\"Error in plotting: {str(e)}\"\n",
    "\n",
    "# Define the tool\n",
    "repl_tool = Tool(\n",
    "    name=\"geo_plotter\",\n",
    "    description=\"Generates a geoplot. Assumes geospatial data is available and plots it using GeoPandas & Matplotlib.\",\n",
    "    func=plot_geodata\n",
    ")\n",
    "\n",
    "# Add the tool to the SQL agent tools\n",
    "tools = toolkit.get_tools()\n",
    "tools.append(repl_tool)\n",
    "\n",
    "# Verify tools\n",
    "print([tool.name for tool in tools])\n"
   ]
  },
  {
   "cell_type": "code",
   "execution_count": 189,
   "metadata": {},
   "outputs": [],
   "source": [
    "# Define prompt\n",
    "# prompt = ChatPromptTemplate.from_template(\"{input}\")\n",
    "prompt = ChatPromptTemplate.from_template(\n",
    "    \"{input}\\n\\nPrevious Actions:\\n{agent_scratchpad}\"\n",
    ")\n",
    "\n",
    "# Create LangChain SQL agent\n",
    "sql_agent = create_openai_tools_agent(\n",
    "    llm=chat,\n",
    "    tools=tools,\n",
    "    prompt=prompt,\n",
    ")\n",
    "\n",
    "# Create agent executor\n",
    "agent_executor = AgentExecutor(agent=sql_agent,\n",
    "                               tools=tools,\n",
    "                               verbose=False)"
   ]
  },
  {
   "cell_type": "code",
   "execution_count": 191,
   "metadata": {},
   "outputs": [
    {
     "data": {
      "image/png": "[encoded data removed]",
      "text/plain": [
       "<Figure size 1200x600 with 1 Axes>"
      ]
     },
     "metadata": {},
     "output_type": "display_data"
    },
    {
     "data": {
      "text/plain": [
       "{'input': 'Count number of earthquakes for each canton and plot it by order descendant of earthquakes. Top 5 cantons in red.',\n",
       " 'output': 'The analysis of the number of earthquakes by canton has been completed, and the results have been plotted. The top 5 cantons with the highest number of earthquakes are highlighted in red. \\n\\nIf you need any further analysis or modifications, please let me know!'}"
      ]
     },
     "execution_count": 191,
     "metadata": {},
     "output_type": "execute_result"
    }
   ],
   "source": [
    "agent_executor.invoke({\"input\": \"Count number of earthquakes for each canton and plot it by order descendant of earthquakes. Top 5 cantons in red.\"})"
   ]
  },
  {
   "cell_type": "code",
   "execution_count": 225,
   "metadata": {},
   "outputs": [
    {
     "name": "stdout",
     "output_type": "stream",
     "text": [
      "['sql_db_query', 'sql_db_schema', 'sql_db_list_tables', 'sql_db_query_checker', 'canton_plotter']\n"
     ]
    }
   ],
   "source": [
    "import geopandas as gpd\n",
    "import matplotlib.pyplot as plt\n",
    "from langchain.tools import Tool\n",
    "from pydantic import BaseModel\n",
    "import pandas as pd\n",
    "\n",
    "# Load Swiss cantons shapefile\n",
    "swiss_cantons = gpd.read_file(shapefile_path)\n",
    "\n",
    "# Input Schema\n",
    "class CantonPlotInput(BaseModel):\n",
    "    canton_data: list  # List of {\"canton\": \"ZH\", \"count\": 10}\n",
    "\n",
    "def plot_canton_data(canton_data: list):\n",
    "    \"\"\"\n",
    "    Plots Swiss cantons, shading them based on earthquake counts.\n",
    "\n",
    "    Parameters:\n",
    "        canton_data (list): List of {\"canton\": \"ZH\", \"count\": 10}.\n",
    "\n",
    "    Returns:\n",
    "        str: Path to saved plot image.\n",
    "    \"\"\"\n",
    "    try:\n",
    "        # Convert input to DataFrame\n",
    "        df = pd.DataFrame(canton_data)\n",
    "        df.rename(columns={'canton': 'Name', 'count': 'Count'}, inplace=True)\n",
    "\n",
    "        # Merge with Swiss cantons GeoDataFrame\n",
    "        merged = swiss_cantons.merge(df, left_on=\"NAME\", right_on=\"Name\", how=\"left\").fillna(0)\n",
    "\n",
    "        # Plot\n",
    "        fig, ax = plt.subplots(figsize=(10, 6))\n",
    "        merged.plot(column=\"Count\", cmap=\"OrRd\", linewidth=0.8, edgecolor=\"black\", legend=True, ax=ax)\n",
    "\n",
    "        # Hide axes\n",
    "        ax.set_xticks([])\n",
    "        ax.set_yticks([])\n",
    "        ax.set_frame_on(False)\n",
    "        ax.set_title(\"Earthquake Occurrences by Canton in Switzerland\")\n",
    "\n",
    "        # Save plot\n",
    "        plot_path = \"canton_earthquakes.png\"\n",
    "        plt.title(\"Earthquakes per Swiss Canton\")\n",
    "        plt.savefig(plot_path)\n",
    "        plt.close()\n",
    "\n",
    "        return f\"GeoPlot saved as {plot_path}\"\n",
    "\n",
    "    except Exception as e:\n",
    "        return f\"Error in plotting: {str(e)}\"\n",
    "\n",
    "# Define LangChain Tool\n",
    "geo_plot_tool = Tool(\n",
    "    name=\"canton_plotter\",\n",
    "    description=\"Plots Swiss cantons, shading them based on earthquake counts. Takes a list of {'canton': 'ZH', 'count': 10}.\",\n",
    "    func=plot_canton_data,\n",
    "    args_schema=CantonPlotInput\n",
    ")\n",
    "\n",
    "# Add tool to SQL agent\n",
    "tools = toolkit.get_tools()\n",
    "tools.append(geo_plot_tool)\n",
    "\n",
    "# Verify tools\n",
    "print([tool.name for tool in tools])\n"
   ]
  },
  {
   "cell_type": "code",
   "execution_count": 226,
   "metadata": {},
   "outputs": [],
   "source": [
    "# Define prompt\n",
    "# prompt = ChatPromptTemplate.from_template(\"{input}\")\n",
    "prompt = ChatPromptTemplate.from_template(\n",
    "    \"{input}\\n\\nPrevious Actions:\\n{agent_scratchpad}\"\n",
    ")\n",
    "\n",
    "# Create LangChain SQL agent\n",
    "sql_agent = create_openai_tools_agent(\n",
    "    llm=chat,\n",
    "    tools=tools,\n",
    "    prompt=prompt,\n",
    ")\n",
    "\n",
    "# Create agent executor\n",
    "agent_executor = AgentExecutor(agent=sql_agent,\n",
    "                               tools=tools,\n",
    "                               verbose=True)"
   ]
  },
  {
   "cell_type": "code",
   "execution_count": 227,
   "metadata": {},
   "outputs": [
    {
     "name": "stdout",
     "output_type": "stream",
     "text": [
      "\n",
      "\n",
      "\u001b[1m> Entering new AgentExecutor chain...\u001b[0m\n",
      "\u001b[32;1m\u001b[1;3m\n",
      "Invoking: `sql_db_list_tables` with `{}`\n",
      "\n",
      "\n",
      "\u001b[0m\u001b[38;5;200m\u001b[1;3mearthquakes\u001b[0m\u001b[32;1m\u001b[1;3m\n",
      "Invoking: `sql_db_query` with `{'query': 'SELECT canton, COUNT(*) as earthquake_count FROM earthquakes GROUP BY canton ORDER BY earthquake_count DESC;'}`\n",
      "\n",
      "\n",
      "\u001b[0m\u001b[36;1m\u001b[1;3m[('Valais', 109), ('Graubünden', 44), ('Glarus', 43), ('Jura', 32), ('Bern', 16), ('Vaud', 14), ('Ticino', 11), ('Luzern', 10), ('Neuchâtel', 9), ('Thurgau', 8), ('Fribourg', 7), ('St. Gallen', 5), ('Uri', 5), ('Basel-Landschaft', 4), ('Aargau', 4), ('Schwyz', 2), ('Zürich', 2), ('Nidwalden', 1), ('Obwalden', 1), ('Basel-Stadt', 1)]\u001b[0m\u001b[32;1m\u001b[1;3m\n",
      "Invoking: `canton_plotter` with `{'canton_data': [{'canton': 'Valais', 'count': 109}, {'canton': 'Graubünden', 'count': 44}, {'canton': 'Glarus', 'count': 43}, {'canton': 'Jura', 'count': 32}, {'canton': 'Bern', 'count': 16}, {'canton': 'Vaud', 'count': 14}, {'canton': 'Ticino', 'count': 11}, {'canton': 'Luzern', 'count': 10}, {'canton': 'Neuchâtel', 'count': 9}, {'canton': 'Thurgau', 'count': 8}, {'canton': 'Fribourg', 'count': 7}, {'canton': 'St. Gallen', 'count': 5}, {'canton': 'Uri', 'count': 5}, {'canton': 'Basel-Landschaft', 'count': 4}, {'canton': 'Aargau', 'count': 4}, {'canton': 'Schwyz', 'count': 2}, {'canton': 'Zürich', 'count': 2}, {'canton': 'Nidwalden', 'count': 1}, {'canton': 'Obwalden', 'count': 1}, {'canton': 'Basel-Stadt', 'count': 1}]}`\n",
      "\n",
      "\n",
      "\u001b[0m\u001b[33;1m\u001b[1;3mGeoPlot saved as canton_earthquakes.png\u001b[0m\u001b[32;1m\u001b[1;3mThe earthquake counts for each canton have been successfully retrieved and plotted. Here are the counts in descending order:\n",
      "\n",
      "1. Valais: 109\n",
      "2. Graubünden: 44\n",
      "3. Glarus: 43\n",
      "4. Jura: 32\n",
      "5. Bern: 16\n",
      "6. Vaud: 14\n",
      "7. Ticino: 11\n",
      "8. Luzern: 10\n",
      "9. Neuchâtel: 9\n",
      "10. Thurgau: 8\n",
      "11. Fribourg: 7\n",
      "12. St. Gallen: 5\n",
      "13. Uri: 5\n",
      "14. Basel-Landschaft: 4\n",
      "15. Aargau: 4\n",
      "16. Schwyz: 2\n",
      "17. Zürich: 2\n",
      "18. Nidwalden: 1\n",
      "19. Obwalden: 1\n",
      "20. Basel-Stadt: 1\n",
      "\n",
      "The plot has been saved as `canton_earthquakes.png`. If you need any further analysis or information, feel free to ask!\u001b[0m\n",
      "\n",
      "\u001b[1m> Finished chain.\u001b[0m\n"
     ]
    },
    {
     "data": {
      "text/plain": [
       "{'input': 'Count number of earthquakes for each canton and plot it by order descendant of earthquakes.',\n",
       " 'output': 'The earthquake counts for each canton have been successfully retrieved and plotted. Here are the counts in descending order:\\n\\n1. Valais: 109\\n2. Graubünden: 44\\n3. Glarus: 43\\n4. Jura: 32\\n5. Bern: 16\\n6. Vaud: 14\\n7. Ticino: 11\\n8. Luzern: 10\\n9. Neuchâtel: 9\\n10. Thurgau: 8\\n11. Fribourg: 7\\n12. St. Gallen: 5\\n13. Uri: 5\\n14. Basel-Landschaft: 4\\n15. Aargau: 4\\n16. Schwyz: 2\\n17. Zürich: 2\\n18. Nidwalden: 1\\n19. Obwalden: 1\\n20. Basel-Stadt: 1\\n\\nThe plot has been saved as `canton_earthquakes.png`. If you need any further analysis or information, feel free to ask!'}"
      ]
     },
     "execution_count": 227,
     "metadata": {},
     "output_type": "execute_result"
    }
   ],
   "source": [
    "agent_executor.invoke({\"input\": \"Count number of earthquakes for each canton and plot it by order descendant of earthquakes.\"})"
   ]
  }
 ],
 "metadata": {
  "kernelspec": {
   "display_name": ".venv",
   "language": "python",
   "name": "python3"
  },
  "language_info": {
   "codemirror_mode": {
    "name": "ipython",
    "version": 3
   },
   "file_extension": ".py",
   "mimetype": "text/x-python",
   "name": "python",
   "nbconvert_exporter": "python",
   "pygments_lexer": "ipython3",
   "version": "3.10.10"
  }
 },
 "nbformat": 4,
 "nbformat_minor": 2
}
