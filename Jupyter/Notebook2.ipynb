{
 "cells": [
  {
   "cell_type": "code",
   "execution_count": 8,
   "metadata": {},
   "outputs": [],
   "source": [
    "from dotenv import load_dotenv\n",
    "import os\n",
    "\n",
    "load_dotenv()\n",
    "OPENAI_API_KEY = os.getenv(\"OPENAI_API_KEY\")\n",
    "TAVILY_API_KEY = os.getenv(\"TAVILY_API_KEY\")\n",
    "SERPAPI_API_KEY = os.getenv(\"SERPAPI_API_KEY\")"
   ]
  },
  {
   "cell_type": "code",
   "execution_count": 9,
   "metadata": {},
   "outputs": [],
   "source": [
    "# Import OpenAI chat model\n",
    "from langchain.chat_models import ChatOpenAI\n",
    "import os\n",
    "\n",
    "# Set the OpenAI API key\n",
    "os.environ[\"OPENAI_API_KEY\"] = OPENAI_API_KEY\n",
    "\n",
    "# Create the OpenAI chat model\n",
    "chat = ChatOpenAI(\n",
    "    model=\"gpt-3.5-turbo\",  # Use \"gpt-4\" if you want a cheaper alternative\n",
    "    temperature=0.2\n",
    ")"
   ]
  },
  {
   "cell_type": "markdown",
   "metadata": {},
   "source": [
    "Tool 1: web search"
   ]
  },
  {
   "cell_type": "code",
   "execution_count": 10,
   "metadata": {},
   "outputs": [],
   "source": [
    "from langchain_community.tools import TavilySearchResults, DuckDuckGoSearchResults\n",
    "from langchain_community.utilities import SerpAPIWrapper\n",
    "from langchain.agents import Tool\n",
    "\n",
    "os.environ['TAVILY_API_KEY'] = TAVILY_API_KEY\n",
    "os.environ['SERPAPI_API_KEY'] = SERPAPI_API_KEY\n",
    "\n",
    "# internet_search = TavilySearchResults(\n",
    "#     max_results=10,\n",
    "#     include_answer=True,\n",
    "#     include_raw_content=True,\n",
    "#     include_images=False\n",
    "#     )\n",
    "# internet_search = DuckDuckGoSearchResults(max_results=10)\n",
    "\n",
    "# Initialize the SerpAPI search tool\n",
    "serp_api = SerpAPIWrapper()\n",
    "\n",
    "# Wrap it as a Tool to add name & description\n",
    "internet_search = Tool(\n",
    "    name=\"internet_search\",\n",
    "    description=\"Returns a list of relevant document snippets for a textual query retrieved from the internet.\",\n",
    "    func=serp_api.run  # SerpAPIWrapper does not support direct execution, so use `.run`\n",
    ")\n",
    "\n",
    "# internet_search.name = \"internet_search\"\n",
    "# internet_search.description = \"Returns a list of relevant document snippets for a textual query retrieved from the internet.\"\n"
   ]
  },
  {
   "cell_type": "code",
   "execution_count": 11,
   "metadata": {},
   "outputs": [],
   "source": [
    "# internet_search.invoke({'query': 'Create a plot of the monthly average of gold price in swiss franc by gramm for the last 10 years'})"
   ]
  },
  {
   "cell_type": "markdown",
   "metadata": {},
   "source": [
    "Tool 2: plot"
   ]
  },
  {
   "cell_type": "code",
   "execution_count": 12,
   "metadata": {},
   "outputs": [],
   "source": [
    "import matplotlib\n",
    "\n",
    "from langchain_experimental.utilities import PythonREPL\n",
    "\n",
    "python_repl = PythonREPL()\n",
    "repl_tool = Tool(\n",
    "    name=\"python_repl\",\n",
    "    description=\"Executes python code and returns the result. The code runs in a static sandbox without interactive mode, so print output or save output to a file.\",\n",
    "    func=python_repl.run,\n",
    ")\n",
    "repl_tool.name = \"python_interpreter\"\n",
    "\n",
    "# from langchain_core.pydantic_v1 import BaseModel, Field\n",
    "# class ToolInput(BaseModel):\n",
    "#     code: str = Field(description=\"Python code to execute.\")\n",
    "# repl_tool.args_schema = ToolInput"
   ]
  },
  {
   "cell_type": "markdown",
   "metadata": {},
   "source": [
    "Agent"
   ]
  },
  {
   "cell_type": "code",
   "execution_count": 13,
   "metadata": {},
   "outputs": [],
   "source": [
    "from langchain.agents import AgentExecutor, create_openai_tools_agent\n",
    "from langchain.prompts import ChatPromptTemplate\n",
    "\n",
    "\n",
    "# Create the prompt template\n",
    "# prompt = ChatPromptTemplate.from_template(\"{input}\")\n",
    "# Create the prompt with agent_scratchpad\n",
    "prompt = ChatPromptTemplate.from_template(\n",
    "    \"{input}\\n\\nPrevious Actions:\\n{agent_scratchpad}\"\n",
    ")\n",
    "\n",
    "# Initialize the ReAct agent\n",
    "agent = create_openai_tools_agent(\n",
    "    tools=[internet_search, repl_tool],\n",
    "    llm=chat,\n",
    "    prompt=prompt,\n",
    ")\n",
    "\n",
    "# Create the agent executor\n",
    "agent_executor = AgentExecutor(agent=agent, tools=[internet_search, repl_tool], verbose=True)\n"
   ]
  },
  {
   "cell_type": "code",
   "execution_count": 14,
   "metadata": {},
   "outputs": [
    {
     "name": "stdout",
     "output_type": "stream",
     "text": [
      "\n",
      "\n",
      "\u001b[1m> Entering new AgentExecutor chain...\u001b[0m\n",
      "\u001b[32;1m\u001b[1;3m\n",
      "Invoking: `internet_search` with `gold price history in us dollar for the last month`\n",
      "\n",
      "\n",
      "\u001b[0m\u001b[36;1m\u001b[1;3mGold Price is at a current level of 2648.01, down from 2651.13 last month and up from 2026.18 one year ago. This is a change of -0.12% from last month and 30.69% from one year ago.\u001b[0m\u001b[32;1m\u001b[1;3m\n",
      "Invoking: `internet_search` with `gold price history in us dollar for the last month`\n",
      "\n",
      "\n",
      "\u001b[0m\u001b[36;1m\u001b[1;3mGold Price is at a current level of 2648.01, down from 2651.13 last month and up from 2026.18 one year ago. This is a change of -0.12% from last month and 30.69% from one year ago.\u001b[0m\u001b[32;1m\u001b[1;3m\n",
      "Invoking: `internet_search` with `gold price history in us dollar for the last month`\n",
      "\n",
      "\n",
      "\u001b[0m\u001b[36;1m\u001b[1;3mGold Price is at a current level of 2648.01, down from 2651.13 last month and up from 2026.18 one year ago. This is a change of -0.12% from last month and 30.69% from one year ago.\u001b[0m\u001b[32;1m\u001b[1;3m\n",
      "Invoking: `internet_search` with `gold price history in us dollar for the last month day by day`\n",
      "\n",
      "\n",
      "\u001b[0m\u001b[36;1m\u001b[1;3m[\"For easy reference, this page also contains a simple table that provides gold's price change and percentage change using a single day, 30 day, six month, one ...\", 'Explore the dynamic journey of gold prices through history, from the gold standard era to the present day, highlighting significant fluctuations.', '30 Day gold Price History in US Dollars per Ounce. Receive Gold and Silver Price Updates via Email.', 'View the all-time historical gold price from 1970 to the present via our fast loading chart. Use the zoom tool below the chart to view the view any time ...', 'Gold Price Performance USD ; 30 Days, +109.71, +4.18% ; 6 Months, +324.73, +13.48% ; 1 Year, +697.61, +34.25% ; 5 Year, +1,150.70, +72.67%.', 'Gold Price in USD per Gram for Last 6 Months. Au. Current Price. $90.03. 6 Month Change. 15.50% $12.09. 6 Month high $90.68. 6 Month low $76.04.', 'Gold Price in US Dollars is at a current level of 2776.80, unchanged from 2776.80 the previous market day and up from 2018.50 one year ago.', 'Our interactive gold prices chart shows you the gold price per ounce in USD, along with options to view the 50-day moving average and 200-day moving average.', 'Stay informed with real-time charts of international precious metal prices. Monitor spot prices for Gold in USD, GBP, and EUR. Access live updates here >>']\u001b[0m\u001b[32;1m\u001b[1;3m\n",
      "Invoking: `internet_search` with `gold price history in us dollar for the last month day by day`\n",
      "\n",
      "\n",
      "\u001b[0m\u001b[36;1m\u001b[1;3m[\"For easy reference, this page also contains a simple table that provides gold's price change and percentage change using a single day, 30 day, six month, one ...\", 'Explore the dynamic journey of gold prices through history, from the gold standard era to the present day, highlighting significant fluctuations.', '30 Day gold Price History in US Dollars per Ounce. Receive Gold and Silver Price Updates via Email.', 'View the all-time historical gold price from 1970 to the present via our fast loading chart. Use the zoom tool below the chart to view the view any time ...', 'Gold Price Performance USD ; 30 Days, +109.71, +4.18% ; 6 Months, +324.73, +13.48% ; 1 Year, +697.61, +34.25% ; 5 Year, +1,150.70, +72.67%.', 'Gold Price in USD per Gram for Last 6 Months. Au. Current Price. $90.03. 6 Month Change. 15.50% $12.09. 6 Month high $90.68. 6 Month low $76.04.', 'Gold Price in US Dollars is at a current level of 2776.80, unchanged from 2776.80 the previous market day and up from 2018.50 one year ago.', 'Our interactive gold prices chart shows you the gold price per ounce in USD, along with options to view the 50-day moving average and 200-day moving average.', 'Stay informed with real-time charts of international precious metal prices. Monitor spot prices for Gold in USD, GBP, and EUR. Access live updates here >>']\u001b[0m\u001b[32;1m\u001b[1;3m\n",
      "Invoking: `internet_search` with `30 Day gold Price History in US Dollars per Ounce`\n",
      "\n",
      "\n",
      "\u001b[0m\u001b[36;1m\u001b[1;3m['30 Day gold Price History in US Dollars per Ounce. Receive Gold and Silver Price Updates via Email.', 'Gold Price Performance USD ; 30 Days, +109.71, +4.18% ; 6 Months, +324.73, +13.48% ; 1 Year, +697.61, +34.25% ; 5 Year, +1,150.70, +72.67%.', 'Annual Gold Prices since 1970 ; 2020, $1,771.07, $1,517.24 ; 2019, $1,393.86, $1,282.51 ; 2018, $1,269.69, $1,302.60 ; 2017, $1,258.70, $1,152.00 ...', 'Gold Prices for the Last 30 Days in US Dollars (USD) ; 01/24/25, 2,771.70, Ounce ; 01/24/25 · 89.112, Gram ; 01/24/25 · 89,112, Kilo ...', 'Gold - data, forecasts, historical chart - was last updated on January 31 of 2025. Gold increased 182.65 USD/t oz. or 6.96% since the beginning of 2025, ...', 'The gold price chart above displays the USD gold price per troy ounce in dollars ($) for the last 6 months. Use the chart options above to build your own gold ...', 'Gold Price Performance USD ; 30 Days, +135.76, +5.17% ; 6 Months, +350.79, +14.56% ; 1 Year, +723.66, +35.53% ; 5 Year, +1,176.75, +74.31%.', 'Gold Prices - 100 Year Historical Chart. Interactive chart of historical data for real (inflation-adjusted) gold prices per ounce back to 1915.', \"Currently, the US dollar spot price for 1 ounce of gold is $2,808.30 and in Canadian dollars C$4,062.33. However, it's possible to track the real-time changing ...\", 'Gold price and chart ; Gold Price per Gram, €86.54, US$90.01 ; Gold Price per Ounce (1oz), €2,691.80, US$2,799.77 ; Gold Price per Kilo, €86,543.54, US$90,014.80.']\u001b[0m\u001b[32;1m\u001b[1;3m\n",
      "Invoking: `internet_search` with `Gold Price for the last month day by day in US Dollars`\n",
      "\n",
      "\n",
      "\u001b[0m\u001b[36;1m\u001b[1;3m['30 Day gold Price History in US Dollars per Ounce. Receive Gold and Silver Price Updates via Email.', 'Explore the dynamic journey of gold prices through history, from the gold standard era to the present day, highlighting significant fluctuations.', 'Gold Price Performance USD ; Today, +30.31, +1.11% ; 30 Days, +109.71, +4.18% ; 6 Months, +324.73, +13.48% ; 1 Year, +697.61, +34.25%.', 'Gold Price in USD per Gram for Last 6 Months. Au. Current Price. $89.89. 6 Month Change. 15.66% $12.17. 6 Month high $90.68. 6 Month low $76.04.', 'Gold Price Performance USD ; 30 Days, +109.71, +4.18% ; 6 Months, +324.73, +13.48% ; 1 Year, +697.61, +34.25% ; 5 Year, +1,150.70, +72.67%.', 'Gold Price in US Dollars is at a current level of 2776.80, unchanged from 2776.80 the previous market day and up from 2018.50 one year ago.', 'View the all-time historical gold price from 1970 to the present via our fast loading chart. Use the zoom tool below the chart to view the view any time ...', 'Our interactive gold prices chart shows you the gold price per ounce in USD, along with options to view the 50-day moving average and 200-day moving average.', 'Gold Price Performance USD ; 30 Days, +109.71, +4.18% ; 6 Months, +324.73, +13.48% ; 1 Year, +697.61, +34.25% ; 5 Year, +1,150.70, +72.67%.']\u001b[0m\u001b[32;1m\u001b[1;3m\n",
      "Invoking: `internet_search` with `Gold Price for the last month day by day in US Dollars`\n",
      "\n",
      "\n",
      "\u001b[0m\u001b[36;1m\u001b[1;3m['30 Day gold Price History in US Dollars per Ounce. Receive Gold and Silver Price Updates via Email.', 'Explore the dynamic journey of gold prices through history, from the gold standard era to the present day, highlighting significant fluctuations.', 'Gold Price Performance USD ; Today, +30.31, +1.11% ; 30 Days, +109.71, +4.18% ; 6 Months, +324.73, +13.48% ; 1 Year, +697.61, +34.25%.', 'Gold Price in USD per Gram for Last 6 Months. Au. Current Price. $89.89. 6 Month Change. 15.66% $12.17. 6 Month high $90.68. 6 Month low $76.04.', 'Gold Price Performance USD ; 30 Days, +109.71, +4.18% ; 6 Months, +324.73, +13.48% ; 1 Year, +697.61, +34.25% ; 5 Year, +1,150.70, +72.67%.', 'Gold Price in US Dollars is at a current level of 2776.80, unchanged from 2776.80 the previous market day and up from 2018.50 one year ago.', 'View the all-time historical gold price from 1970 to the present via our fast loading chart. Use the zoom tool below the chart to view the view any time ...', 'Our interactive gold prices chart shows you the gold price per ounce in USD, along with options to view the 50-day moving average and 200-day moving average.', 'Gold Price Performance USD ; 30 Days, +109.71, +4.18% ; 6 Months, +324.73, +13.48% ; 1 Year, +697.61, +34.25% ; 5 Year, +1,150.70, +72.67%.']\u001b[0m\u001b[32;1m\u001b[1;3m\n",
      "Invoking: `internet_search` with `Gold Price for the last month day by day in US Dollars`\n",
      "\n",
      "\n",
      "\u001b[0m\u001b[36;1m\u001b[1;3m['30 Day gold Price History in US Dollars per Ounce. Receive Gold and Silver Price Updates via Email.', 'Explore the dynamic journey of gold prices through history, from the gold standard era to the present day, highlighting significant fluctuations.', 'Gold Price Performance USD ; Today, +30.31, +1.11% ; 30 Days, +109.71, +4.18% ; 6 Months, +324.73, +13.48% ; 1 Year, +697.61, +34.25%.', 'Gold Price in USD per Gram for Last 6 Months. Au. Current Price. $89.89. 6 Month Change. 15.66% $12.17. 6 Month high $90.68. 6 Month low $76.04.', 'Gold Price Performance USD ; 30 Days, +109.71, +4.18% ; 6 Months, +324.73, +13.48% ; 1 Year, +697.61, +34.25% ; 5 Year, +1,150.70, +72.67%.', 'Gold Price in US Dollars is at a current level of 2776.80, unchanged from 2776.80 the previous market day and up from 2018.50 one year ago.', 'View the all-time historical gold price from 1970 to the present via our fast loading chart. Use the zoom tool below the chart to view the view any time ...', 'Our interactive gold prices chart shows you the gold price per ounce in USD, along with options to view the 50-day moving average and 200-day moving average.', 'Gold Price Performance USD ; 30 Days, +109.71, +4.18% ; 6 Months, +324.73, +13.48% ; 1 Year, +697.61, +34.25% ; 5 Year, +1,150.70, +72.67%.']\u001b[0m\u001b[32;1m\u001b[1;3m\n",
      "Invoking: `internet_search` with `Gold Price for the last month day by day in US Dollars`\n",
      "\n",
      "\n",
      "\u001b[0m\u001b[36;1m\u001b[1;3m['30 Day gold Price History in US Dollars per Ounce. Receive Gold and Silver Price Updates via Email.', 'Explore the dynamic journey of gold prices through history, from the gold standard era to the present day, highlighting significant fluctuations.', 'Gold Price Performance USD ; Today, +30.31, +1.11% ; 30 Days, +109.71, +4.18% ; 6 Months, +324.73, +13.48% ; 1 Year, +697.61, +34.25%.', 'Gold Price in USD per Gram for Last 6 Months. Au. Current Price. $89.89. 6 Month Change. 15.66% $12.17. 6 Month high $90.68. 6 Month low $76.04.', 'Gold Price Performance USD ; 30 Days, +109.71, +4.18% ; 6 Months, +324.73, +13.48% ; 1 Year, +697.61, +34.25% ; 5 Year, +1,150.70, +72.67%.', 'Gold Price in US Dollars is at a current level of 2776.80, unchanged from 2776.80 the previous market day and up from 2018.50 one year ago.', 'View the all-time historical gold price from 1970 to the present via our fast loading chart. Use the zoom tool below the chart to view the view any time ...', 'Our interactive gold prices chart shows you the gold price per ounce in USD, along with options to view the 50-day moving average and 200-day moving average.', 'Gold Price Performance USD ; 30 Days, +109.71, +4.18% ; 6 Months, +324.73, +13.48% ; 1 Year, +697.61, +34.25% ; 5 Year, +1,150.70, +72.67%.']\u001b[0m\u001b[32;1m\u001b[1;3m\n",
      "Invoking: `internet_search` with `Gold Price for the last month day by day in US Dollars`\n",
      "\n",
      "\n",
      "\u001b[0m\u001b[36;1m\u001b[1;3m['30 Day gold Price History in US Dollars per Ounce. Receive Gold and Silver Price Updates via Email.', 'Explore the dynamic journey of gold prices through history, from the gold standard era to the present day, highlighting significant fluctuations.', 'Gold Price Performance USD ; Today, +30.31, +1.11% ; 30 Days, +109.71, +4.18% ; 6 Months, +324.73, +13.48% ; 1 Year, +697.61, +34.25%.', 'Gold Price in USD per Gram for Last 6 Months. Au. Current Price. $89.89. 6 Month Change. 15.66% $12.17. 6 Month high $90.68. 6 Month low $76.04.', 'Gold Price Performance USD ; 30 Days, +109.71, +4.18% ; 6 Months, +324.73, +13.48% ; 1 Year, +697.61, +34.25% ; 5 Year, +1,150.70, +72.67%.', 'Gold Price in US Dollars is at a current level of 2776.80, unchanged from 2776.80 the previous market day and up from 2018.50 one year ago.', 'View the all-time historical gold price from 1970 to the present via our fast loading chart. Use the zoom tool below the chart to view the view any time ...', 'Our interactive gold prices chart shows you the gold price per ounce in USD, along with options to view the 50-day moving average and 200-day moving average.', 'Gold Price Performance USD ; 30 Days, +109.71, +4.18% ; 6 Months, +324.73, +13.48% ; 1 Year, +697.61, +34.25% ; 5 Year, +1,150.70, +72.67%.']\u001b[0m\u001b[32;1m\u001b[1;3m\n",
      "Invoking: `internet_search` with `Gold Price for the last month day by day in US Dollars`\n",
      "\n",
      "\n",
      "\u001b[0m\u001b[36;1m\u001b[1;3m['30 Day gold Price History in US Dollars per Ounce. Receive Gold and Silver Price Updates via Email.', 'Explore the dynamic journey of gold prices through history, from the gold standard era to the present day, highlighting significant fluctuations.', 'Gold Price Performance USD ; Today, +30.31, +1.11% ; 30 Days, +109.71, +4.18% ; 6 Months, +324.73, +13.48% ; 1 Year, +697.61, +34.25%.', 'Gold Price in USD per Gram for Last 6 Months. Au. Current Price. $89.89. 6 Month Change. 15.66% $12.17. 6 Month high $90.68. 6 Month low $76.04.', 'Gold Price Performance USD ; 30 Days, +109.71, +4.18% ; 6 Months, +324.73, +13.48% ; 1 Year, +697.61, +34.25% ; 5 Year, +1,150.70, +72.67%.', 'Gold Price in US Dollars is at a current level of 2776.80, unchanged from 2776.80 the previous market day and up from 2018.50 one year ago.', 'View the all-time historical gold price from 1970 to the present via our fast loading chart. Use the zoom tool below the chart to view the view any time ...', 'Our interactive gold prices chart shows you the gold price per ounce in USD, along with options to view the 50-day moving average and 200-day moving average.', 'Gold Price Performance USD ; 30 Days, +109.71, +4.18% ; 6 Months, +324.73, +13.48% ; 1 Year, +697.61, +34.25% ; 5 Year, +1,150.70, +72.67%.']\u001b[0m\u001b[32;1m\u001b[1;3m\n",
      "Invoking: `internet_search` with `Gold Price for the last month day by day in US Dollars`\n",
      "\n",
      "\n",
      "\u001b[0m\u001b[36;1m\u001b[1;3m['30 Day gold Price History in US Dollars per Ounce. Receive Gold and Silver Price Updates via Email.', 'Explore the dynamic journey of gold prices through history, from the gold standard era to the present day, highlighting significant fluctuations.', 'Gold Price Performance USD ; Today, +30.31, +1.11% ; 30 Days, +109.71, +4.18% ; 6 Months, +324.73, +13.48% ; 1 Year, +697.61, +34.25%.', 'Gold Price in USD per Gram for Last 6 Months. Au. Current Price. $89.89. 6 Month Change. 15.66% $12.17. 6 Month high $90.68. 6 Month low $76.04.', 'Gold Price Performance USD ; 30 Days, +109.71, +4.18% ; 6 Months, +324.73, +13.48% ; 1 Year, +697.61, +34.25% ; 5 Year, +1,150.70, +72.67%.', 'Gold Price in US Dollars is at a current level of 2776.80, unchanged from 2776.80 the previous market day and up from 2018.50 one year ago.', 'View the all-time historical gold price from 1970 to the present via our fast loading chart. Use the zoom tool below the chart to view the view any time ...', 'Our interactive gold prices chart shows you the gold price per ounce in USD, along with options to view the 50-day moving average and 200-day moving average.', 'Gold Price Performance USD ; 30 Days, +109.71, +4.18% ; 6 Months, +324.73, +13.48% ; 1 Year, +697.61, +34.25% ; 5 Year, +1,150.70, +72.67%.']\u001b[0m\u001b[32;1m\u001b[1;3m\n",
      "Invoking: `internet_search` with `Gold Price for the last month day by day in US Dollars`\n",
      "\n",
      "\n",
      "\u001b[0m\u001b[36;1m\u001b[1;3m['30 Day gold Price History in US Dollars per Ounce. Receive Gold and Silver Price Updates via Email.', 'Explore the dynamic journey of gold prices through history, from the gold standard era to the present day, highlighting significant fluctuations.', 'Gold Price Performance USD ; Today, +30.31, +1.11% ; 30 Days, +109.71, +4.18% ; 6 Months, +324.73, +13.48% ; 1 Year, +697.61, +34.25%.', 'Gold Price in USD per Gram for Last 6 Months. Au. Current Price. $89.89. 6 Month Change. 15.66% $12.17. 6 Month high $90.68. 6 Month low $76.04.', 'Gold Price Performance USD ; 30 Days, +109.71, +4.18% ; 6 Months, +324.73, +13.48% ; 1 Year, +697.61, +34.25% ; 5 Year, +1,150.70, +72.67%.', 'Gold Price in US Dollars is at a current level of 2776.80, unchanged from 2776.80 the previous market day and up from 2018.50 one year ago.', 'View the all-time historical gold price from 1970 to the present via our fast loading chart. Use the zoom tool below the chart to view the view any time ...', 'Our interactive gold prices chart shows you the gold price per ounce in USD, along with options to view the 50-day moving average and 200-day moving average.', 'Gold Price Performance USD ; 30 Days, +109.71, +4.18% ; 6 Months, +324.73, +13.48% ; 1 Year, +697.61, +34.25% ; 5 Year, +1,150.70, +72.67%.']\u001b[0m\u001b[32;1m\u001b[1;3m\n",
      "Invoking: `internet_search` with `Gold Price for the last month day by day in US Dollars`\n",
      "\n",
      "\n",
      "\u001b[0m\u001b[36;1m\u001b[1;3m['30 Day gold Price History in US Dollars per Ounce. Receive Gold and Silver Price Updates via Email.', 'Explore the dynamic journey of gold prices through history, from the gold standard era to the present day, highlighting significant fluctuations.', 'Gold Price Performance USD ; Today, +30.31, +1.11% ; 30 Days, +109.71, +4.18% ; 6 Months, +324.73, +13.48% ; 1 Year, +697.61, +34.25%.', 'Gold Price in USD per Gram for Last 6 Months. Au. Current Price. $89.89. 6 Month Change. 15.66% $12.17. 6 Month high $90.68. 6 Month low $76.04.', 'Gold Price Performance USD ; 30 Days, +109.71, +4.18% ; 6 Months, +324.73, +13.48% ; 1 Year, +697.61, +34.25% ; 5 Year, +1,150.70, +72.67%.', 'Gold Price in US Dollars is at a current level of 2776.80, unchanged from 2776.80 the previous market day and up from 2018.50 one year ago.', 'View the all-time historical gold price from 1970 to the present via our fast loading chart. Use the zoom tool below the chart to view the view any time ...', 'Our interactive gold prices chart shows you the gold price per ounce in USD, along with options to view the 50-day moving average and 200-day moving average.', 'Gold Price Performance USD ; 30 Days, +109.71, +4.18% ; 6 Months, +324.73, +13.48% ; 1 Year, +697.61, +34.25% ; 5 Year, +1,150.70, +72.67%.']\u001b[0m\u001b[32;1m\u001b[1;3m\n",
      "Invoking: `internet_search` with `Gold Price for the last month day by day in US Dollars`\n",
      "\n",
      "\n",
      "\u001b[0m\u001b[36;1m\u001b[1;3m['30 Day gold Price History in US Dollars per Ounce. Receive Gold and Silver Price Updates via Email.', 'Explore the dynamic journey of gold prices through history, from the gold standard era to the present day, highlighting significant fluctuations.', 'Gold Price Performance USD ; Today, +30.31, +1.11% ; 30 Days, +109.71, +4.18% ; 6 Months, +324.73, +13.48% ; 1 Year, +697.61, +34.25%.', 'Gold Price in USD per Gram for Last 6 Months. Au. Current Price. $89.89. 6 Month Change. 15.66% $12.17. 6 Month high $90.68. 6 Month low $76.04.', 'Gold Price Performance USD ; 30 Days, +109.71, +4.18% ; 6 Months, +324.73, +13.48% ; 1 Year, +697.61, +34.25% ; 5 Year, +1,150.70, +72.67%.', 'Gold Price in US Dollars is at a current level of 2776.80, unchanged from 2776.80 the previous market day and up from 2018.50 one year ago.', 'View the all-time historical gold price from 1970 to the present via our fast loading chart. Use the zoom tool below the chart to view the view any time ...', 'Our interactive gold prices chart shows you the gold price per ounce in USD, along with options to view the 50-day moving average and 200-day moving average.', 'Gold Price Performance USD ; 30 Days, +109.71, +4.18% ; 6 Months, +324.73, +13.48% ; 1 Year, +697.61, +34.25% ; 5 Year, +1,150.70, +72.67%.']\u001b[0m\u001b[32;1m\u001b[1;3m\n",
      "Invoking: `internet_search` with `Gold Price for the last month day by day in US Dollars`\n",
      "\n",
      "\n",
      "\u001b[0m\u001b[36;1m\u001b[1;3m['30 Day gold Price History in US Dollars per Ounce. Receive Gold and Silver Price Updates via Email.', 'Explore the dynamic journey of gold prices through history, from the gold standard era to the present day, highlighting significant fluctuations.', 'Gold Price Performance USD ; Today, +30.31, +1.11% ; 30 Days, +109.71, +4.18% ; 6 Months, +324.73, +13.48% ; 1 Year, +697.61, +34.25%.', 'Gold Price in USD per Gram for Last 6 Months. Au. Current Price. $89.89. 6 Month Change. 15.66% $12.17. 6 Month high $90.68. 6 Month low $76.04.', 'Gold Price Performance USD ; 30 Days, +109.71, +4.18% ; 6 Months, +324.73, +13.48% ; 1 Year, +697.61, +34.25% ; 5 Year, +1,150.70, +72.67%.', 'Gold Price in US Dollars is at a current level of 2776.80, unchanged from 2776.80 the previous market day and up from 2018.50 one year ago.', 'View the all-time historical gold price from 1970 to the present via our fast loading chart. Use the zoom tool below the chart to view the view any time ...', 'Our interactive gold prices chart shows you the gold price per ounce in USD, along with options to view the 50-day moving average and 200-day moving average.', 'Gold Price Performance USD ; 30 Days, +109.71, +4.18% ; 6 Months, +324.73, +13.48% ; 1 Year, +697.61, +34.25% ; 5 Year, +1,150.70, +72.67%.']\u001b[0m\u001b[32;1m\u001b[1;3m\n",
      "Invoking: `internet_search` with `Gold Price for the last month day by day in US Dollars`\n",
      "\n",
      "\n",
      "\u001b[0m\u001b[36;1m\u001b[1;3m['30 Day gold Price History in US Dollars per Ounce. Receive Gold and Silver Price Updates via Email.', 'Explore the dynamic journey of gold prices through history, from the gold standard era to the present day, highlighting significant fluctuations.', 'Gold Price Performance USD ; Today, +30.31, +1.11% ; 30 Days, +109.71, +4.18% ; 6 Months, +324.73, +13.48% ; 1 Year, +697.61, +34.25%.', 'Gold Price in USD per Gram for Last 6 Months. Au. Current Price. $89.89. 6 Month Change. 15.66% $12.17. 6 Month high $90.68. 6 Month low $76.04.', 'Gold Price Performance USD ; 30 Days, +109.71, +4.18% ; 6 Months, +324.73, +13.48% ; 1 Year, +697.61, +34.25% ; 5 Year, +1,150.70, +72.67%.', 'Gold Price in US Dollars is at a current level of 2776.80, unchanged from 2776.80 the previous market day and up from 2018.50 one year ago.', 'View the all-time historical gold price from 1970 to the present via our fast loading chart. Use the zoom tool below the chart to view the view any time ...', 'Our interactive gold prices chart shows you the gold price per ounce in USD, along with options to view the 50-day moving average and 200-day moving average.', 'Gold Price Performance USD ; 30 Days, +109.71, +4.18% ; 6 Months, +324.73, +13.48% ; 1 Year, +697.61, +34.25% ; 5 Year, +1,150.70, +72.67%.']\u001b[0m\u001b[32;1m\u001b[1;3m\n",
      "Invoking: `internet_search` with `Gold Price for the last month day by day in US Dollars`\n",
      "\n",
      "\n",
      "\u001b[0m\u001b[36;1m\u001b[1;3m['30 Day gold Price History in US Dollars per Ounce. Receive Gold and Silver Price Updates via Email.', 'Explore the dynamic journey of gold prices through history, from the gold standard era to the present day, highlighting significant fluctuations.', 'Gold Price Performance USD ; Today, +30.31, +1.11% ; 30 Days, +109.71, +4.18% ; 6 Months, +324.73, +13.48% ; 1 Year, +697.61, +34.25%.', 'Gold Price in USD per Gram for Last 6 Months. Au. Current Price. $89.89. 6 Month Change. 15.66% $12.17. 6 Month high $90.68. 6 Month low $76.04.', 'Gold Price Performance USD ; 30 Days, +109.71, +4.18% ; 6 Months, +324.73, +13.48% ; 1 Year, +697.61, +34.25% ; 5 Year, +1,150.70, +72.67%.', 'Gold Price in US Dollars is at a current level of 2776.80, unchanged from 2776.80 the previous market day and up from 2018.50 one year ago.', 'View the all-time historical gold price from 1970 to the present via our fast loading chart. Use the zoom tool below the chart to view the view any time ...', 'Our interactive gold prices chart shows you the gold price per ounce in USD, along with options to view the 50-day moving average and 200-day moving average.', 'Gold Price Performance USD ; 30 Days, +109.71, +4.18% ; 6 Months, +324.73, +13.48% ; 1 Year, +697.61, +34.25% ; 5 Year, +1,150.70, +72.67%.']\u001b[0m\u001b[32;1m\u001b[1;3m\u001b[0m\n",
      "\n",
      "\u001b[1m> Finished chain.\u001b[0m\n"
     ]
    }
   ],
   "source": [
    "try:\n",
    "    result = agent_executor.invoke({\n",
    "        \"input\":\"Find the gold price history in us dollar by once for the last month day by day, transform it to numerics and plot it\"\n",
    "    })\n",
    "except AttributeError as e:\n",
    "    print(f\"Error: {e}\")"
   ]
  }
 ],
 "metadata": {
  "kernelspec": {
   "display_name": ".venv",
   "language": "python",
   "name": "python3"
  },
  "language_info": {
   "codemirror_mode": {
    "name": "ipython",
    "version": 3
   },
   "file_extension": ".py",
   "mimetype": "text/x-python",
   "name": "python",
   "nbconvert_exporter": "python",
   "pygments_lexer": "ipython3",
   "version": "3.10.10"
  }
 },
 "nbformat": 4,
 "nbformat_minor": 2
}
