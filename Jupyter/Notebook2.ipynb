{
 "cells": [
  {
   "cell_type": "code",
   "execution_count": 1,
   "metadata": {},
   "outputs": [],
   "source": [
    "from dotenv import load_dotenv\n",
    "import os\n",
    "\n",
    "load_dotenv()\n",
    "OPENAI_API_KEY = os.getenv(\"OPENAI_API_KEY\")\n",
    "TAVILY_API_KEY = os.getenv(\"TAVILY_API_KEY\")\n",
    "SERPAPI_API_KEY = os.getenv(\"SERPAPI_API_KEY\")"
   ]
  },
  {
   "cell_type": "code",
   "execution_count": 2,
   "metadata": {},
   "outputs": [
    {
     "name": "stderr",
     "output_type": "stream",
     "text": [
      "/var/folders/wb/j4k9h7qx311cp9pg23ddgxdc0000gp/T/ipykernel_30598/4040255664.py:9: LangChainDeprecationWarning: The class `ChatOpenAI` was deprecated in LangChain 0.0.10 and will be removed in 1.0. An updated version of the class exists in the :class:`~langchain-openai package and should be used instead. To use it run `pip install -U :class:`~langchain-openai` and import as `from :class:`~langchain_openai import ChatOpenAI``.\n",
      "  chat = ChatOpenAI(\n"
     ]
    }
   ],
   "source": [
    "# Import OpenAI chat model\n",
    "from langchain.chat_models import ChatOpenAI\n",
    "import os\n",
    "\n",
    "# Set the OpenAI API key\n",
    "os.environ[\"OPENAI_API_KEY\"] = OPENAI_API_KEY\n",
    "\n",
    "# Create the OpenAI chat model\n",
    "chat = ChatOpenAI(\n",
    "    model=\"gpt-4\",  # Use \"gpt-3.5-turbo\" if you want a cheaper alternative\n",
    "    temperature=0.2\n",
    ")"
   ]
  },
  {
   "cell_type": "markdown",
   "metadata": {},
   "source": [
    "Tool 1: web search"
   ]
  },
  {
   "cell_type": "code",
   "execution_count": 3,
   "metadata": {},
   "outputs": [],
   "source": [
    "from langchain_community.tools import TavilySearchResults, DuckDuckGoSearchResults\n",
    "from langchain_community.utilities import SerpAPIWrapper\n",
    "from langchain.agents import Tool\n",
    "\n",
    "os.environ['TAVILY_API_KEY'] = TAVILY_API_KEY\n",
    "os.environ['SERPAPI_API_KEY'] = SERPAPI_API_KEY\n",
    "\n",
    "# internet_search = TavilySearchResults(\n",
    "#     max_results=10,\n",
    "#     include_answer=True,\n",
    "#     include_raw_content=True,\n",
    "#     include_images=False\n",
    "#     )\n",
    "# internet_search = DuckDuckGoSearchResults(max_results=10)\n",
    "\n",
    "# Initialize the SerpAPI search tool\n",
    "serp_api = SerpAPIWrapper()\n",
    "\n",
    "# Wrap it as a Tool to add name & description\n",
    "internet_search = Tool(\n",
    "    name=\"internet_search\",\n",
    "    description=\"Returns a list of relevant document snippets for a textual query retrieved from the internet.\",\n",
    "    func=serp_api.run  # SerpAPIWrapper does not support direct execution, so use `.run`\n",
    ")\n",
    "\n",
    "# internet_search.name = \"internet_search\"\n",
    "# internet_search.description = \"Returns a list of relevant document snippets for a textual query retrieved from the internet.\"\n"
   ]
  },
  {
   "cell_type": "code",
   "execution_count": 4,
   "metadata": {},
   "outputs": [],
   "source": [
    "# internet_search.invoke({'query': 'Create a plot of the monthly average of gold price in swiss franc by gramm for the last 10 years'})"
   ]
  },
  {
   "cell_type": "markdown",
   "metadata": {},
   "source": [
    "Tool 2: plot"
   ]
  },
  {
   "cell_type": "code",
   "execution_count": 5,
   "metadata": {},
   "outputs": [],
   "source": [
    "import matplotlib\n",
    "\n",
    "from langchain_experimental.utilities import PythonREPL\n",
    "\n",
    "python_repl = PythonREPL()\n",
    "repl_tool = Tool(\n",
    "    name=\"python_repl\",\n",
    "    description=\"Executes python code and returns the result. The code runs in a static sandbox without interactive mode, so print output or save output to a file.\",\n",
    "    func=python_repl.run,\n",
    ")\n",
    "repl_tool.name = \"python_interpreter\"\n",
    "\n",
    "# from langchain_core.pydantic_v1 import BaseModel, Field\n",
    "# class ToolInput(BaseModel):\n",
    "#     code: str = Field(description=\"Python code to execute.\")\n",
    "# repl_tool.args_schema = ToolInput"
   ]
  },
  {
   "cell_type": "markdown",
   "metadata": {},
   "source": [
    "Agent"
   ]
  },
  {
   "cell_type": "code",
   "execution_count": 6,
   "metadata": {},
   "outputs": [],
   "source": [
    "from langchain.agents import AgentExecutor, create_openai_tools_agent\n",
    "from langchain.prompts import ChatPromptTemplate\n",
    "\n",
    "\n",
    "# Create the prompt template\n",
    "# prompt = ChatPromptTemplate.from_template(\"{input}\")\n",
    "# Create the prompt with agent_scratchpad\n",
    "prompt = ChatPromptTemplate.from_template(\n",
    "    \"{input}\\n\\nPrevious Actions:\\n{agent_scratchpad}\"\n",
    ")\n",
    "\n",
    "# Initialize the ReAct agent\n",
    "agent = create_openai_tools_agent(\n",
    "    tools=[internet_search, repl_tool],\n",
    "    llm=chat,\n",
    "    prompt=prompt,\n",
    ")\n",
    "\n",
    "# Create the agent executor\n",
    "agent_executor = AgentExecutor(agent=agent, tools=[internet_search, repl_tool], verbose=True)\n"
   ]
  },
  {
   "cell_type": "code",
   "execution_count": 7,
   "metadata": {},
   "outputs": [
    {
     "name": "stdout",
     "output_type": "stream",
     "text": [
      "\n",
      "\n",
      "\u001b[1m> Entering new AgentExecutor chain...\u001b[0m\n",
      "\u001b[32;1m\u001b[1;3m\n",
      "Invoking: `internet_search` with `gold price history in us dollar for the last month`\n",
      "\n",
      "\n",
      "\u001b[0m\u001b[36;1m\u001b[1;3mGold Price is at a current level of 2648.01, down from 2651.13 last month and up from 2026.18 one year ago. This is a change of -0.12% from last month and 30.69% from one year ago.\u001b[0m\u001b[32;1m\u001b[1;3mI'm sorry, but the information retrieved does not provide a day-by-day history of gold prices for the last month. It only provides the current level, the level from last month, and the level from one year ago. \n",
      "\n",
      "To get a day-by-day history, we would need access to a specific financial database or API that provides this information. Unfortunately, I currently don't have the capability to access such databases or APIs. \n",
      "\n",
      "I recommend using financial data platforms like Yahoo Finance, Google Finance, or Bloomberg, which allow you to view and download historical price data for various commodities including gold.\u001b[0m\n",
      "\n",
      "\u001b[1m> Finished chain.\u001b[0m\n"
     ]
    }
   ],
   "source": [
    "try:\n",
    "    result = agent_executor.invoke({\n",
    "        \"input\":\"Find the gold price history in us dollar by once for the last month day by day, transform it to numerics and plot it\"\n",
    "    })\n",
    "except AttributeError as e:\n",
    "    print(f\"Error: {e}\")"
   ]
  }
 ],
 "metadata": {
  "kernelspec": {
   "display_name": ".venv",
   "language": "python",
   "name": "python3"
  },
  "language_info": {
   "codemirror_mode": {
    "name": "ipython",
    "version": 3
   },
   "file_extension": ".py",
   "mimetype": "text/x-python",
   "name": "python",
   "nbconvert_exporter": "python",
   "pygments_lexer": "ipython3",
   "version": "3.10.10"
  }
 },
 "nbformat": 4,
 "nbformat_minor": 2
}
