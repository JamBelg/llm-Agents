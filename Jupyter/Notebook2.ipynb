{
 "cells": [
  {
   "cell_type": "code",
   "execution_count": 42,
   "metadata": {},
   "outputs": [],
   "source": [
    "from dotenv import load_dotenv\n",
    "import os\n",
    "\n",
    "load_dotenv()\n",
    "OPENAI_API_KEY = os.getenv(\"OPENAI_API_KEY\")\n",
    "TAVILY_API_KEY = os.getenv(\"TAVILY_API_KEY\")\n",
    "SERPAPI_API_KEY = os.getenv(\"SERPAPI_API_KEY\")"
   ]
  },
  {
   "cell_type": "code",
   "execution_count": 43,
   "metadata": {},
   "outputs": [],
   "source": [
    "# Import OpenAI chat model\n",
    "from langchain.chat_models import ChatOpenAI\n",
    "import os\n",
    "\n",
    "# Set the OpenAI API key\n",
    "os.environ[\"OPENAI_API_KEY\"] = OPENAI_API_KEY\n",
    "\n",
    "# Create the OpenAI chat model\n",
    "chat = ChatOpenAI(\n",
    "    model=\"gpt-4\",  # Use \"gpt-3.5-turbo\" if you want a cheaper alternative\n",
    "    temperature=0.2\n",
    ")"
   ]
  },
  {
   "cell_type": "markdown",
   "metadata": {},
   "source": [
    "Tool 1: web search"
   ]
  },
  {
   "cell_type": "code",
   "execution_count": 55,
   "metadata": {},
   "outputs": [],
   "source": [
    "from langchain_community.tools import TavilySearchResults, DuckDuckGoSearchResults\n",
    "from langchain_community.utilities import SerpAPIWrapper\n",
    "from langchain.agents import Tool\n",
    "\n",
    "os.environ['TAVILY_API_KEY'] = TAVILY_API_KEY\n",
    "os.environ['SERPAPI_API_KEY'] = SERPAPI_API_KEY\n",
    "\n",
    "# internet_search = TavilySearchResults(\n",
    "#     max_results=10,\n",
    "#     include_answer=True,\n",
    "#     include_raw_content=True,\n",
    "#     include_images=False\n",
    "#     )\n",
    "# internet_search = DuckDuckGoSearchResults(max_results=10)\n",
    "\n",
    "# Initialize the SerpAPI search tool\n",
    "serp_api = SerpAPIWrapper()\n",
    "\n",
    "# Wrap it as a Tool to add name & description\n",
    "internet_search = Tool(\n",
    "    name=\"internet_search\",\n",
    "    description=\"Returns a list of relevant document snippets for a textual query retrieved from the internet.\",\n",
    "    func=serp_api.run  # SerpAPIWrapper does not support direct execution, so use `.run`\n",
    ")\n",
    "\n",
    "# internet_search.name = \"internet_search\"\n",
    "# internet_search.description = \"Returns a list of relevant document snippets for a textual query retrieved from the internet.\"\n"
   ]
  },
  {
   "cell_type": "code",
   "execution_count": 36,
   "metadata": {},
   "outputs": [],
   "source": [
    "# internet_search.invoke({'query': 'Create a plot of the monthly average of gold price in swiss franc by gramm for the last 10 years'})"
   ]
  },
  {
   "cell_type": "markdown",
   "metadata": {},
   "source": [
    "Tool 2: plot"
   ]
  },
  {
   "cell_type": "code",
   "execution_count": 56,
   "metadata": {},
   "outputs": [],
   "source": [
    "import matplotlib\n",
    "\n",
    "from langchain_experimental.utilities import PythonREPL\n",
    "\n",
    "python_repl = PythonREPL()\n",
    "repl_tool = Tool(\n",
    "    name=\"python_repl\",\n",
    "    description=\"Executes python code and returns the result. The code runs in a static sandbox without interactive mode, so print output or save output to a file.\",\n",
    "    func=python_repl.run,\n",
    ")\n",
    "repl_tool.name = \"python_interpreter\"\n",
    "\n",
    "# from langchain_core.pydantic_v1 import BaseModel, Field\n",
    "# class ToolInput(BaseModel):\n",
    "#     code: str = Field(description=\"Python code to execute.\")\n",
    "# repl_tool.args_schema = ToolInput"
   ]
  },
  {
   "cell_type": "markdown",
   "metadata": {},
   "source": [
    "Agent"
   ]
  },
  {
   "cell_type": "code",
   "execution_count": 57,
   "metadata": {},
   "outputs": [],
   "source": [
    "from langchain.agents import AgentExecutor, create_openai_tools_agent\n",
    "from langchain.prompts import ChatPromptTemplate\n",
    "\n",
    "\n",
    "# Create the prompt template\n",
    "# prompt = ChatPromptTemplate.from_template(\"{input}\")\n",
    "# Create the prompt with agent_scratchpad\n",
    "prompt = ChatPromptTemplate.from_template(\n",
    "    \"{input}\\n\\nPrevious Actions:\\n{agent_scratchpad}\"\n",
    ")\n",
    "\n",
    "# Initialize the ReAct agent\n",
    "agent = create_openai_tools_agent(\n",
    "    tools=[internet_search, repl_tool],\n",
    "    llm=chat,\n",
    "    prompt=prompt,\n",
    ")\n",
    "\n",
    "# Create the agent executor\n",
    "agent_executor = AgentExecutor(agent=agent, tools=[internet_search, repl_tool], verbose=True)\n"
   ]
  },
  {
   "cell_type": "code",
   "execution_count": 58,
   "metadata": {},
   "outputs": [
    {
     "name": "stdout",
     "output_type": "stream",
     "text": [
      "\n",
      "\n",
      "\u001b[1m> Entering new AgentExecutor chain...\u001b[0m\n",
      "\u001b[32;1m\u001b[1;3m\n",
      "Invoking: `internet_search` with `gold price history in us dollar for the last week data`\n",
      "\n",
      "\n",
      "\u001b[0m\u001b[36;1m\u001b[1;3m['(XAUUSD) Prices logged 3:00 Mountain time daily* ; Yesterday · 2,760.83 · 17.40 ; Last Week · 2,768.16 · 10.07 ; Last Month · 2,624.49 · 153.74.', 'Gold Price Performance USD ; 30 Days, +109.71, +4.18% ; 6 Months, +324.73, +13.48% ; 1 Year, +697.61, +34.25% ; 5 Year, +1,150.70, +72.67%.', 'All Data gold Price History in US Dollars per Ounce. Receive Gold and Silver Price Updates via Email.', 'Live gold prices in US Dollars, British Pounds, Euros, Japanese Yen ... Gold Price Last Week. Current Price, $89,302.24. Week High, $89,564.99. Week Low ...', 'Gold Futures Historical Data ; Highest: 2,822.10 ; Change %:. 6.61 ; Average: 2,718.38 ; Difference: 213.70 ; Lowest: 2,608.40.', 'Discover historical prices for GC=F stock on Yahoo Finance. View daily, weekly or monthly format back to when Gold Feb 25 stock was issued.', 'View the all-time historical gold price from 1970 to the present via our fast loading chart. Use the zoom tool below the chart to view the view any time ...', 'Gold Price in US Dollars is at a current level of 2776.80, unchanged from 2776.80 the previous market day and up from 2018.50 one year ago.', 'This data set provides the gold price over a range of timeframes (daily, weekly, monthly, annually) going back to 1978, and in the major trading, producer, and ...']\u001b[0m\u001b[32;1m\u001b[1;3m\n",
      "Invoking: `internet_search` with `gold price history in us dollar for the last week structured data`\n",
      "responded: The data retrieved from the internet search does not provide a clear and structured dataset for the gold price history in US dollars for the last week. To plot the data, we need a structured dataset with specific dates and corresponding prices. \n",
      "\n",
      "Let's try another search to get a more structured dataset.\n",
      "\n",
      "\u001b[0m\u001b[36;1m\u001b[1;3m['(XAUUSD) Prices logged 3:00 Mountain time daily* ; Yesterday · 2,760.83 · 7.74 ; Last Week · 2,768.16 · 0.41 ; Last Month · 2,624.49 · 144.08.', 'In addition to viewing historical gold price charts in U.S. Dollars, you can also view historical gold prices in numerous alternative currencies such as British ...', 'Historically, Gold reached an all time high of 2790.07 in October of 2024. Gold - data, forecasts, historical chart - was last updated on January 30 of 2025.', 'Gold Price Performance USD ; 30 Days, +135.76, +5.17% ; 6 Months, +350.79, +14.56% ; 1 Year, +723.66, +35.53% ; 5 Year, +1,176.75, +74.31%.', 'Our historical Gold price dataset includes data at intervals of 1 minute, 1 day, 1 week, and 1 month (open/high/low/close/volume).', 'Discover historical prices for GC=F stock on Yahoo Finance. View daily, weekly or monthly format back to when Gold Feb 25 stock was issued.', 'This data set provides the gold price over a range of timeframes (daily, weekly, monthly, annually) going back to 1978, and in the major trading, producer, and ...', 'Gold Price in US Dollars is at a current level of 2776.80, unchanged from 2776.80 the previous market day and up from 2018.50 one year ago.', 'APMEX lists live gold prices and Silver prices as well as historical data related to gold spot prices. All prices are updated in real-time.', 'Get free historical data for the XAU USD (Gold Spot US Dollar) currency pair, viewable in daily, weekly or monthly time intervals.']\u001b[0m\u001b[32;1m\u001b[1;3mThe data retrieved from the second internet search still does not provide a clear and structured dataset for the gold price history in US dollars for the last week. To plot the data, we need a structured dataset with specific dates and corresponding prices. \n",
      "\n",
      "Unfortunately, without a structured dataset, it's not possible to plot the gold price history for the last week. You may want to consider using a financial data service or API that provides historical gold price data in a structured format.\u001b[0m\n",
      "\n",
      "\u001b[1m> Finished chain.\u001b[0m\n"
     ]
    }
   ],
   "source": [
    "try:\n",
    "    result = agent_executor.invoke({\n",
    "        \"input\":\"Plot the gold price history in us dollar by once for the last week\"\n",
    "    })\n",
    "except AttributeError as e:\n",
    "    print(f\"Error: {e}\")"
   ]
  }
 ],
 "metadata": {
  "kernelspec": {
   "display_name": "llm_agen_env",
   "language": "python",
   "name": "python3"
  },
  "language_info": {
   "codemirror_mode": {
    "name": "ipython",
    "version": 3
   },
   "file_extension": ".py",
   "mimetype": "text/x-python",
   "name": "python",
   "nbconvert_exporter": "python",
   "pygments_lexer": "ipython3",
   "version": "3.10.10"
  }
 },
 "nbformat": 4,
 "nbformat_minor": 2
}
